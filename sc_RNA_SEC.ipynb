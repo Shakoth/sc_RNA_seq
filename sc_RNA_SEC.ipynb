{
 "cells": [
  {
   "cell_type": "markdown",
   "id": "c38e3d37",
   "metadata": {},
   "source": [
    "In this notebook I will create several models for classification of mice brain cells using single-cell RNA sequence data from [brainimagelibrary](https://download.brainimagelibrary.org/cf/1c/cf1c1a431ef8d021/processed_data/).\n",
    "\n",
    "* We have 3 cell types\n",
    "* 280186 cells x 254 genes"
   ]
  },
  {
   "cell_type": "markdown",
   "id": "6665f2cb",
   "metadata": {},
   "source": [
    "# Imports and data loading"
   ]
  },
  {
   "cell_type": "code",
   "execution_count": 1,
   "id": "98b95f68",
   "metadata": {},
   "outputs": [],
   "source": [
    "import scanpy as sc\n",
    "import pandas as pd\n",
    "import matplotlib.pyplot as plt\n",
    "import seaborn as sns\n",
    "import numpy as np\n",
    "from sklearn.model_selection import train_test_split, StratifiedGroupKFold, cross_val_score\n",
    "from sklearn.linear_model import LogisticRegression\n",
    "from sklearn.ensemble import RandomForestClassifier\n",
    "from sklearn.metrics import confusion_matrix, ConfusionMatrixDisplay, accuracy_score, classification_report, roc_curve"
   ]
  },
  {
   "cell_type": "code",
   "execution_count": 2,
   "id": "36d49bab",
   "metadata": {},
   "outputs": [],
   "source": [
    "from sklearn.decomposition import PCA\n",
    "import umap\n",
    "import xgboost as xgb\n",
    "import optuna\n",
    "import joblib"
   ]
  },
  {
   "cell_type": "code",
   "execution_count": 3,
   "id": "39b3baa1",
   "metadata": {},
   "outputs": [],
   "source": [
    "import torch\n",
    "from torch import nn\n",
    "from torch.utils.data import DataLoader, Dataset"
   ]
  },
  {
   "cell_type": "code",
   "execution_count": 4,
   "id": "68e15439",
   "metadata": {},
   "outputs": [],
   "source": [
    "cell_labels = pd.read_csv(\"cell_labels.csv\") # Метки классов (колонка `class_label`)\n",
    "adata = sc.read_h5ad(\"counts.h5ad\") # Экспрессии + метаданные"
   ]
  },
  {
   "cell_type": "markdown",
   "id": "2a0460ce",
   "metadata": {},
   "source": [
    "let's take a look at the data"
   ]
  },
  {
   "cell_type": "code",
   "execution_count": 5,
   "id": "8513fbf1",
   "metadata": {},
   "outputs": [
    {
     "data": {
      "text/html": [
       "<div>\n",
       "<style scoped>\n",
       "    .dataframe tbody tr th:only-of-type {\n",
       "        vertical-align: middle;\n",
       "    }\n",
       "\n",
       "    .dataframe tbody tr th {\n",
       "        vertical-align: top;\n",
       "    }\n",
       "\n",
       "    .dataframe thead th {\n",
       "        text-align: right;\n",
       "    }\n",
       "</style>\n",
       "<table border=\"1\" class=\"dataframe\">\n",
       "  <thead>\n",
       "    <tr style=\"text-align: right;\">\n",
       "      <th></th>\n",
       "      <th>Unnamed: 0</th>\n",
       "      <th>sample_id</th>\n",
       "      <th>slice_id</th>\n",
       "      <th>class_label</th>\n",
       "      <th>subclass</th>\n",
       "      <th>label</th>\n",
       "    </tr>\n",
       "  </thead>\n",
       "  <tbody>\n",
       "    <tr>\n",
       "      <th>0</th>\n",
       "      <td>10000143038275111136124942858811168393</td>\n",
       "      <td>mouse2_sample4</td>\n",
       "      <td>mouse2_slice31</td>\n",
       "      <td>Other</td>\n",
       "      <td>Astro</td>\n",
       "      <td>Astro_1</td>\n",
       "    </tr>\n",
       "    <tr>\n",
       "      <th>1</th>\n",
       "      <td>100001798412490480358118871918100400402</td>\n",
       "      <td>mouse2_sample5</td>\n",
       "      <td>mouse2_slice160</td>\n",
       "      <td>Other</td>\n",
       "      <td>Endo</td>\n",
       "      <td>Endo</td>\n",
       "    </tr>\n",
       "    <tr>\n",
       "      <th>2</th>\n",
       "      <td>100006878605830627922364612565348097824</td>\n",
       "      <td>mouse2_sample6</td>\n",
       "      <td>mouse2_slice109</td>\n",
       "      <td>Other</td>\n",
       "      <td>SMC</td>\n",
       "      <td>SMC</td>\n",
       "    </tr>\n",
       "  </tbody>\n",
       "</table>\n",
       "</div>"
      ],
      "text/plain": [
       "                                Unnamed: 0       sample_id         slice_id  \\\n",
       "0   10000143038275111136124942858811168393  mouse2_sample4   mouse2_slice31   \n",
       "1  100001798412490480358118871918100400402  mouse2_sample5  mouse2_slice160   \n",
       "2  100006878605830627922364612565348097824  mouse2_sample6  mouse2_slice109   \n",
       "\n",
       "  class_label subclass    label  \n",
       "0       Other    Astro  Astro_1  \n",
       "1       Other     Endo     Endo  \n",
       "2       Other      SMC      SMC  "
      ]
     },
     "execution_count": 5,
     "metadata": {},
     "output_type": "execute_result"
    }
   ],
   "source": [
    "cell_labels.head(3)"
   ]
  },
  {
   "cell_type": "code",
   "execution_count": 6,
   "id": "f98eca4b",
   "metadata": {},
   "outputs": [
    {
     "data": {
      "text/plain": [
       "array(['Other', 'Glutamatergic', 'GABAergic'], dtype=object)"
      ]
     },
     "execution_count": 6,
     "metadata": {},
     "output_type": "execute_result"
    }
   ],
   "source": [
    "cell_labels['class_label'].unique()"
   ]
  },
  {
   "cell_type": "code",
   "execution_count": 7,
   "id": "390f7514",
   "metadata": {},
   "outputs": [
    {
     "data": {
      "text/plain": [
       "(24,)"
      ]
     },
     "execution_count": 7,
     "metadata": {},
     "output_type": "execute_result"
    }
   ],
   "source": [
    "cell_labels['subclass'].unique().shape"
   ]
  },
  {
   "cell_type": "code",
   "execution_count": 8,
   "id": "17126836",
   "metadata": {},
   "outputs": [
    {
     "data": {
      "text/plain": [
       "array(['Sst', 'Sncg', 'Vip', 'Pvalb', 'Lamp5'], dtype=object)"
      ]
     },
     "execution_count": 8,
     "metadata": {},
     "output_type": "execute_result"
    }
   ],
   "source": [
    "cell_labels.query('class_label == \"GABAergic\"')['subclass'].unique()"
   ]
  },
  {
   "cell_type": "code",
   "execution_count": 9,
   "id": "dc50cb2b",
   "metadata": {},
   "outputs": [
    {
     "data": {
      "text/plain": [
       "array(['L2/3 IT', 'L6 CT', 'L4/5 IT', 'L5 ET', 'L5 IT', 'L6 IT',\n",
       "       'L6 IT Car3', 'L5/6 NP', 'L6b'], dtype=object)"
      ]
     },
     "execution_count": 9,
     "metadata": {},
     "output_type": "execute_result"
    }
   ],
   "source": [
    "cell_labels.query('class_label == \"Glutamatergic\"')['subclass'].unique()"
   ]
  },
  {
   "cell_type": "code",
   "execution_count": 10,
   "id": "954f0297",
   "metadata": {},
   "outputs": [
    {
     "data": {
      "text/plain": [
       "array(['Astro', 'Endo', 'SMC', 'VLMC', 'Peri', 'Micro', 'Oligo', 'PVM',\n",
       "       'OPC', 'other'], dtype=object)"
      ]
     },
     "execution_count": 10,
     "metadata": {},
     "output_type": "execute_result"
    }
   ],
   "source": [
    "cell_labels.query('class_label == \"Other\"')['subclass'].unique()"
   ]
  },
  {
   "cell_type": "markdown",
   "id": "2b1c801a",
   "metadata": {},
   "source": [
    "So we have 3 cell classes and 24 subclasses."
   ]
  },
  {
   "cell_type": "code",
   "execution_count": 11,
   "id": "cf16560b",
   "metadata": {},
   "outputs": [
    {
     "data": {
      "text/plain": [
       "(280186, 6)"
      ]
     },
     "execution_count": 11,
     "metadata": {},
     "output_type": "execute_result"
    }
   ],
   "source": [
    "cell_labels.shape"
   ]
  },
  {
   "cell_type": "code",
   "execution_count": 12,
   "id": "ccb0bc6a",
   "metadata": {},
   "outputs": [
    {
     "data": {
      "text/plain": [
       "(280186, 254)"
      ]
     },
     "execution_count": 12,
     "metadata": {},
     "output_type": "execute_result"
    }
   ],
   "source": [
    "adata.X.shape"
   ]
  },
  {
   "cell_type": "code",
   "execution_count": 13,
   "id": "81d81b5f",
   "metadata": {},
   "outputs": [
    {
     "data": {
      "text/html": [
       "<div>\n",
       "<style scoped>\n",
       "    .dataframe tbody tr th:only-of-type {\n",
       "        vertical-align: middle;\n",
       "    }\n",
       "\n",
       "    .dataframe tbody tr th {\n",
       "        vertical-align: top;\n",
       "    }\n",
       "\n",
       "    .dataframe thead th {\n",
       "        text-align: right;\n",
       "    }\n",
       "</style>\n",
       "<table border=\"1\" class=\"dataframe\">\n",
       "  <thead>\n",
       "    <tr style=\"text-align: right;\">\n",
       "      <th></th>\n",
       "      <th>Unnamed: 0</th>\n",
       "      <th>sample_id</th>\n",
       "      <th>slice_id</th>\n",
       "      <th>subclass</th>\n",
       "      <th>label</th>\n",
       "    </tr>\n",
       "    <tr>\n",
       "      <th>class_label</th>\n",
       "      <th></th>\n",
       "      <th></th>\n",
       "      <th></th>\n",
       "      <th></th>\n",
       "      <th></th>\n",
       "    </tr>\n",
       "  </thead>\n",
       "  <tbody>\n",
       "    <tr>\n",
       "      <th>GABAergic</th>\n",
       "      <td>18300</td>\n",
       "      <td>18300</td>\n",
       "      <td>18300</td>\n",
       "      <td>18300</td>\n",
       "      <td>18300</td>\n",
       "    </tr>\n",
       "    <tr>\n",
       "      <th>Glutamatergic</th>\n",
       "      <td>155831</td>\n",
       "      <td>155831</td>\n",
       "      <td>155831</td>\n",
       "      <td>155831</td>\n",
       "      <td>155831</td>\n",
       "    </tr>\n",
       "    <tr>\n",
       "      <th>Other</th>\n",
       "      <td>106055</td>\n",
       "      <td>106055</td>\n",
       "      <td>106055</td>\n",
       "      <td>106055</td>\n",
       "      <td>106055</td>\n",
       "    </tr>\n",
       "  </tbody>\n",
       "</table>\n",
       "</div>"
      ],
      "text/plain": [
       "               Unnamed: 0  sample_id  slice_id  subclass   label\n",
       "class_label                                                     \n",
       "GABAergic           18300      18300     18300     18300   18300\n",
       "Glutamatergic      155831     155831    155831    155831  155831\n",
       "Other              106055     106055    106055    106055  106055"
      ]
     },
     "execution_count": 13,
     "metadata": {},
     "output_type": "execute_result"
    }
   ],
   "source": [
    "cell_labels.groupby('class_label').agg('count')"
   ]
  },
  {
   "cell_type": "markdown",
   "id": "be9da222",
   "metadata": {},
   "source": [
    "The dataset is not balanced, so I have to be careful when splitting data for test, train, and validation parts. Otherwise it won't matter with such a large dataset."
   ]
  },
  {
   "cell_type": "code",
   "execution_count": 14,
   "id": "379b0ab1",
   "metadata": {},
   "outputs": [],
   "source": [
    "cell_labels['class'] = cell_labels['class_label'].astype('category').cat.codes # create column with numeric codes for classes."
   ]
  },
  {
   "cell_type": "markdown",
   "id": "aa0e7903",
   "metadata": {},
   "source": [
    "# We can try to reduce the data dimensionality"
   ]
  },
  {
   "cell_type": "markdown",
   "id": "7493e7f3",
   "metadata": {},
   "source": [
    "## UMAP"
   ]
  },
  {
   "cell_type": "code",
   "execution_count": 47,
   "id": "3a340879",
   "metadata": {},
   "outputs": [],
   "source": [
    "reducer = umap.UMAP()\n",
    "reducer.fit(adata.X)\n",
    "embedding = reducer.transform(adata.X)"
   ]
  },
  {
   "cell_type": "code",
   "execution_count": 61,
   "id": "93bd22e6",
   "metadata": {},
   "outputs": [
    {
     "data": {
      "image/png": "[encoded data removed]",
      "text/plain": [
       "<Figure size 640x480 with 1 Axes>"
      ]
     },
     "metadata": {},
     "output_type": "display_data"
    }
   ],
   "source": [
    "sns.scatterplot(x=embedding[:,0], y=embedding[:,1], hue=cell_labels['class_label'], s=1)\n",
    "plt.legend(labels=cell_labels['class_label'].unique(), loc='lower left', markerscale=5);"
   ]
  },
  {
   "cell_type": "markdown",
   "id": "10d07897",
   "metadata": {},
   "source": [
    "Looks like UMAP does very nice job here"
   ]
  },
  {
   "cell_type": "markdown",
   "id": "f47de87c",
   "metadata": {},
   "source": [
    "## PCA"
   ]
  },
  {
   "cell_type": "code",
   "execution_count": 18,
   "id": "b1bc52c0",
   "metadata": {},
   "outputs": [
    {
     "data": {
      "text/html": [
       "<style>#sk-container-id-1 {color: black;}#sk-container-id-1 pre{padding: 0;}#sk-container-id-1 div.sk-toggleable {background-color: white;}#sk-container-id-1 label.sk-toggleable__label {cursor: pointer;display: block;width: 100%;margin-bottom: 0;padding: 0.3em;box-sizing: border-box;text-align: center;}#sk-container-id-1 label.sk-toggleable__label-arrow:before {content: \"▸\";float: left;margin-right: 0.25em;color: #696969;}#sk-container-id-1 label.sk-toggleable__label-arrow:hover:before {color: black;}#sk-container-id-1 div.sk-estimator:hover label.sk-toggleable__label-arrow:before {color: black;}#sk-container-id-1 div.sk-toggleable__content {max-height: 0;max-width: 0;overflow: hidden;text-align: left;background-color: #f0f8ff;}#sk-container-id-1 div.sk-toggleable__content pre {margin: 0.2em;color: black;border-radius: 0.25em;background-color: #f0f8ff;}#sk-container-id-1 input.sk-toggleable__control:checked~div.sk-toggleable__content {max-height: 200px;max-width: 100%;overflow: auto;}#sk-container-id-1 input.sk-toggleable__control:checked~label.sk-toggleable__label-arrow:before {content: \"▾\";}#sk-container-id-1 div.sk-estimator input.sk-toggleable__control:checked~label.sk-toggleable__label {background-color: #d4ebff;}#sk-container-id-1 div.sk-label input.sk-toggleable__control:checked~label.sk-toggleable__label {background-color: #d4ebff;}#sk-container-id-1 input.sk-hidden--visually {border: 0;clip: rect(1px 1px 1px 1px);clip: rect(1px, 1px, 1px, 1px);height: 1px;margin: -1px;overflow: hidden;padding: 0;position: absolute;width: 1px;}#sk-container-id-1 div.sk-estimator {font-family: monospace;background-color: #f0f8ff;border: 1px dotted black;border-radius: 0.25em;box-sizing: border-box;margin-bottom: 0.5em;}#sk-container-id-1 div.sk-estimator:hover {background-color: #d4ebff;}#sk-container-id-1 div.sk-parallel-item::after {content: \"\";width: 100%;border-bottom: 1px solid gray;flex-grow: 1;}#sk-container-id-1 div.sk-label:hover label.sk-toggleable__label {background-color: #d4ebff;}#sk-container-id-1 div.sk-serial::before {content: \"\";position: absolute;border-left: 1px solid gray;box-sizing: border-box;top: 0;bottom: 0;left: 50%;z-index: 0;}#sk-container-id-1 div.sk-serial {display: flex;flex-direction: column;align-items: center;background-color: white;padding-right: 0.2em;padding-left: 0.2em;position: relative;}#sk-container-id-1 div.sk-item {position: relative;z-index: 1;}#sk-container-id-1 div.sk-parallel {display: flex;align-items: stretch;justify-content: center;background-color: white;position: relative;}#sk-container-id-1 div.sk-item::before, #sk-container-id-1 div.sk-parallel-item::before {content: \"\";position: absolute;border-left: 1px solid gray;box-sizing: border-box;top: 0;bottom: 0;left: 50%;z-index: -1;}#sk-container-id-1 div.sk-parallel-item {display: flex;flex-direction: column;z-index: 1;position: relative;background-color: white;}#sk-container-id-1 div.sk-parallel-item:first-child::after {align-self: flex-end;width: 50%;}#sk-container-id-1 div.sk-parallel-item:last-child::after {align-self: flex-start;width: 50%;}#sk-container-id-1 div.sk-parallel-item:only-child::after {width: 0;}#sk-container-id-1 div.sk-dashed-wrapped {border: 1px dashed gray;margin: 0 0.4em 0.5em 0.4em;box-sizing: border-box;padding-bottom: 0.4em;background-color: white;}#sk-container-id-1 div.sk-label label {font-family: monospace;font-weight: bold;display: inline-block;line-height: 1.2em;}#sk-container-id-1 div.sk-label-container {text-align: center;}#sk-container-id-1 div.sk-container {/* jupyter's `normalize.less` sets `[hidden] { display: none; }` but bootstrap.min.css set `[hidden] { display: none !important; }` so we also need the `!important` here to be able to override the default hidden behavior on the sphinx rendered scikit-learn.org. See: https://github.com/scikit-learn/scikit-learn/issues/21755 */display: inline-block !important;position: relative;}#sk-container-id-1 div.sk-text-repr-fallback {display: none;}</style><div id=\"sk-container-id-1\" class=\"sk-top-container\"><div class=\"sk-text-repr-fallback\"><pre>PCA(n_components=30)</pre><b>In a Jupyter environment, please rerun this cell to show the HTML representation or trust the notebook. <br />On GitHub, the HTML representation is unable to render, please try loading this page with nbviewer.org.</b></div><div class=\"sk-container\" hidden><div class=\"sk-item\"><div class=\"sk-estimator sk-toggleable\"><input class=\"sk-toggleable__control sk-hidden--visually\" id=\"sk-estimator-id-1\" type=\"checkbox\" checked><label for=\"sk-estimator-id-1\" class=\"sk-toggleable__label sk-toggleable__label-arrow\">PCA</label><div class=\"sk-toggleable__content\"><pre>PCA(n_components=30)</pre></div></div></div></div></div>"
      ],
      "text/plain": [
       "PCA(n_components=30)"
      ]
     },
     "execution_count": 18,
     "metadata": {},
     "output_type": "execute_result"
    }
   ],
   "source": [
    "pca = PCA(n_components=30)\n",
    "pca.fit(adata.X)"
   ]
  },
  {
   "cell_type": "code",
   "execution_count": 14,
   "id": "f97a0fdc",
   "metadata": {},
   "outputs": [
    {
     "data": {
      "text/plain": [
       "<Axes: >"
      ]
     },
     "execution_count": 14,
     "metadata": {},
     "output_type": "execute_result"
    },
    {
     "data": {
      "image/png": "[encoded data removed]",
      "text/plain": [
       "<Figure size 640x480 with 1 Axes>"
      ]
     },
     "metadata": {},
     "output_type": "display_data"
    }
   ],
   "source": [
    "sns.lineplot(pca.explained_variance_ratio_)"
   ]
  },
  {
   "cell_type": "code",
   "execution_count": 125,
   "id": "d7a0d4b8",
   "metadata": {},
   "outputs": [
    {
     "data": {
      "text/plain": [
       "0.8168049600706969"
      ]
     },
     "execution_count": 125,
     "metadata": {},
     "output_type": "execute_result"
    }
   ],
   "source": [
    "pca.explained_variance_ratio_.sum()"
   ]
  },
  {
   "cell_type": "code",
   "execution_count": 19,
   "id": "5d4fda7f",
   "metadata": {},
   "outputs": [],
   "source": [
    "X_pca = pca.transform(adata.X)"
   ]
  },
  {
   "cell_type": "code",
   "execution_count": 127,
   "id": "ba019268",
   "metadata": {},
   "outputs": [
    {
     "data": {
      "image/png": "[encoded data removed]",
      "text/plain": [
       "<Figure size 640x480 with 1 Axes>"
      ]
     },
     "metadata": {},
     "output_type": "display_data"
    }
   ],
   "source": [
    "sns.scatterplot(x=X_pca[:,0], y=X_pca[:,1], hue=cell_labels['class_label'], s=1)\n",
    "plt.legend(labels=cell_labels['class_label'].unique(), loc='upper left', markerscale=5);"
   ]
  },
  {
   "cell_type": "markdown",
   "id": "e1b533dd",
   "metadata": {},
   "source": [
    "# divide data for train and test parts"
   ]
  },
  {
   "cell_type": "code",
   "execution_count": 15,
   "id": "32244c71",
   "metadata": {},
   "outputs": [],
   "source": [
    "X_train, X_test, y_train, y_test, groups_train, groups_test = train_test_split(adata.X, cell_labels['class'], cell_labels['subclass'], stratify=cell_labels['class_label'])"
   ]
  },
  {
   "cell_type": "markdown",
   "id": "dfc9f5ea",
   "metadata": {},
   "source": [
    "And after that we'll use cross-folding to split data for training and validation data, groupped by subclass."
   ]
  },
  {
   "cell_type": "code",
   "execution_count": 16,
   "id": "48144b73",
   "metadata": {},
   "outputs": [],
   "source": [
    "gcv = StratifiedGroupKFold(n_splits=5)"
   ]
  },
  {
   "cell_type": "code",
   "execution_count": 20,
   "id": "8bee9ac6",
   "metadata": {},
   "outputs": [],
   "source": [
    "X_pca_train, X_pca_test, y_pca_train, y_pca_test, groups_pca_train, groups_pca_test = train_test_split(X_pca, cell_labels['class'], cell_labels['subclass'], stratify=cell_labels['class_label'])"
   ]
  },
  {
   "cell_type": "markdown",
   "id": "4887c85f",
   "metadata": {},
   "source": [
    "# Preliminary tests to choose a model"
   ]
  },
  {
   "cell_type": "markdown",
   "id": "6e277384",
   "metadata": {},
   "source": [
    "## logistic regression"
   ]
  },
  {
   "cell_type": "code",
   "execution_count": 69,
   "id": "1f51121f",
   "metadata": {},
   "outputs": [],
   "source": [
    "lr_model = LogisticRegression()"
   ]
  },
  {
   "cell_type": "code",
   "execution_count": 85,
   "id": "411f35ea",
   "metadata": {},
   "outputs": [
    {
     "data": {
      "text/plain": [
       "array([0.97174083, 0.94139113, 0.99036614, 0.89092026, 0.98128591])"
      ]
     },
     "execution_count": 85,
     "metadata": {},
     "output_type": "execute_result"
    }
   ],
   "source": [
    "cross_val_score(lr_model, X_train, y_train, scoring='accuracy', cv=gcv, groups=groups_train, n_jobs=-1)"
   ]
  },
  {
   "cell_type": "code",
   "execution_count": 106,
   "id": "3177c331",
   "metadata": {},
   "outputs": [
    {
     "data": {
      "text/plain": [
       "array([0.83463801, 0.99001576, 0.98009062, 0.732255  , 0.92276694])"
      ]
     },
     "execution_count": 106,
     "metadata": {},
     "output_type": "execute_result"
    }
   ],
   "source": [
    "cross_val_score(lr_model, X_pca_train, y_pca_train, scoring='accuracy', cv=gcv, groups=groups_pca_train, n_jobs=-1)"
   ]
  },
  {
   "cell_type": "markdown",
   "id": "a84866d9",
   "metadata": {},
   "source": [
    "## Random forest"
   ]
  },
  {
   "cell_type": "code",
   "execution_count": 90,
   "id": "f0972f86",
   "metadata": {},
   "outputs": [],
   "source": [
    "forest_model = RandomForestClassifier(n_estimators=500, n_jobs=-1)"
   ]
  },
  {
   "cell_type": "code",
   "execution_count": 91,
   "id": "416bf98a",
   "metadata": {},
   "outputs": [
    {
     "data": {
      "text/plain": [
       "array([0.99375163, 0.92007077, 0.98823406, 0.97114252, 0.98197726])"
      ]
     },
     "execution_count": 91,
     "metadata": {},
     "output_type": "execute_result"
    }
   ],
   "source": [
    "cross_val_score(forest_model, X_train, y_train, scoring='accuracy', cv=gcv, groups=groups_train, n_jobs=-1)"
   ]
  },
  {
   "cell_type": "code",
   "execution_count": 93,
   "id": "69c846ab",
   "metadata": {},
   "outputs": [
    {
     "data": {
      "text/plain": [
       "array([0.99636862, 0.92416078, 0.9834015 , 0.95998174, 0.99138447])"
      ]
     },
     "execution_count": 93,
     "metadata": {},
     "output_type": "execute_result"
    }
   ],
   "source": [
    "cross_val_score(forest_model, X_pca_train, y_pca_train, scoring='accuracy', cv=gcv, groups=groups_pca_train, n_jobs=-1)"
   ]
  },
  {
   "cell_type": "markdown",
   "id": "a005f3ec",
   "metadata": {},
   "source": [
    "## XGBoost"
   ]
  },
  {
   "cell_type": "code",
   "execution_count": 111,
   "id": "8992ca11",
   "metadata": {},
   "outputs": [],
   "source": [
    "xgb_model = xgb.XGBClassifier(device='cuda')"
   ]
  },
  {
   "cell_type": "code",
   "execution_count": 113,
   "id": "6089453f",
   "metadata": {},
   "outputs": [
    {
     "data": {
      "text/plain": [
       "array([0.99756495, 0.91445559, 0.99310508, 0.89821785, 0.98005732])"
      ]
     },
     "execution_count": 113,
     "metadata": {},
     "output_type": "execute_result"
    }
   ],
   "source": [
    "cross_val_score(xgb_model, X_train, y_train, scoring='accuracy', cv=gcv, groups=groups_train, n_jobs=-1)"
   ]
  },
  {
   "cell_type": "code",
   "execution_count": 112,
   "id": "843bfb39",
   "metadata": {},
   "outputs": [
    {
     "data": {
      "text/plain": [
       "array([0.92455   , 0.96192853, 0.97680143, 0.9481941 , 0.98571701])"
      ]
     },
     "execution_count": 112,
     "metadata": {},
     "output_type": "execute_result"
    }
   ],
   "source": [
    "cross_val_score(xgb_model, X_pca_train, y_pca_train, scoring='accuracy', cv=gcv, groups=groups_pca_train, n_jobs=-1)"
   ]
  },
  {
   "cell_type": "markdown",
   "id": "1cc93543",
   "metadata": {},
   "source": [
    "# Optimization of hyperparameters with optuna"
   ]
  },
  {
   "cell_type": "markdown",
   "id": "08c95d43",
   "metadata": {},
   "source": [
    "For tree-based models reduced dimensions table gives the same cross-valuation accuracy score as full table. However calculation time was greatly reduced. I suggest to optimize XGBoost hyperparameters with optuna to obtain better model."
   ]
  },
  {
   "cell_type": "code",
   "execution_count": 153,
   "id": "0c85f565",
   "metadata": {},
   "outputs": [],
   "source": [
    "y_pca_train = y_pca_train.to_numpy()"
   ]
  },
  {
   "cell_type": "code",
   "execution_count": null,
   "id": "7181343f",
   "metadata": {},
   "outputs": [],
   "source": [
    "def objective(trial):\n",
    "    cv = StratifiedGroupKFold(n_splits=3, shuffle=True)\n",
    "    params = {\n",
    "        \"verbosity\": 0,\n",
    "        \"objective\": \"multi:softmax\",\n",
    "        \"booster\": \"gbtree\", # I decided to limit this hyperparameter only for gbtree since it got better results earlier.\n",
    "        # L2 regularization weight.\n",
    "        \"lambda\": trial.suggest_float(\"lambda\", 1e-8, 1.0, log=True),\n",
    "        # L1 regularization weight.\n",
    "        \"alpha\": trial.suggest_float(\"alpha\", 1e-8, 1.0, log=True),\n",
    "        # sampling ratio for training data.\n",
    "        \"subsample\": trial.suggest_float(\"subsample\", 0.2, 1.0),\n",
    "        # sampling according to each tree.\n",
    "        \"colsample_bytree\": trial.suggest_float(\"colsample_bytree\", 0.2, 1.0),\n",
    "        # maximum depth of the tree, signifies complexity of the tree.\n",
    "        \"max_depth\": trial.suggest_int(\"max_depth\", 3, 9, step=2),\n",
    "        # minimum child weight, larger the term more conservative the tree.\n",
    "        \"min_child_weight\": trial.suggest_int(\"min_child_weight\", 2, 10),\n",
    "        \"eta\": trial.suggest_float(\"eta\", 1e-8, 1.0, log=True),\n",
    "        # defines how selective algorithm is.\n",
    "        \"gamma\": trial.suggest_float(\"gamma\", 1e-8, 1.0, log=True),\n",
    "        \"grow_policy\": trial.suggest_categorical(\"grow_policy\", [\"depthwise\", \"lossguide\"])\n",
    "    }\n",
    "    \n",
    "    # pruning_callback = optuna.integration.XGBoostPruningCallback(trial, 'validation-error')\n",
    "    model = xgb.XGBClassifier(**params, n_jobs=-1)\n",
    "    score = cross_val_score(model, X_pca_train, y_pca_train, scoring='accuracy', cv=cv, groups=groups_pca_train, n_jobs=-1)\n",
    "    # scores = []\n",
    "    # for train_index, valid_index in cv.split(X_pca_train, y_pca_train, groups_pca_train):\n",
    "    #     # assign new names for train and validation sets\n",
    "    #     train_x, valid_x = X_pca_train[train_index], X_pca_train[valid_index]\n",
    "    #     train_y, valid_y = y_pca_train[train_index], y_pca_train[valid_index]\n",
    "    #     # change those to xgb.DMatrix\n",
    "    #     dtrain = xgb.DMatrix(train_x, label=train_y)\n",
    "    #     dvalid = xgb.DMatrix(valid_x, label=valid_y)\n",
    "    #     # and train the model\n",
    "    #     model = xgb.train(params, dtrain, evals=[(dvalid, 'validation')], callbacks=[pruning_callback])\n",
    "        \n",
    "    #     preds = model.predict(dvalid)\n",
    "    #     pred_labels = np.rint(preds)\n",
    "    #     score = accuracy_score(valid_y, pred_labels)\n",
    "    #     scores.append(score)\n",
    "\n",
    "    return np.mean(score)"
   ]
  },
  {
   "cell_type": "code",
   "execution_count": null,
   "id": "f3c4e049",
   "metadata": {},
   "outputs": [
    {
     "name": "stderr",
     "output_type": "stream",
     "text": [
      "[I 2024-04-11 07:20:21,559] A new study created in memory with name: no-name-aea54e8c-5c41-458f-8839-c3b8d9ca576b\n",
      "[I 2024-04-11 07:23:00,676] Trial 0 finished with value: 0.9238240275434156 and parameters: {'lambda': 6.283903287511062e-06, 'alpha': 0.0022606594023373283, 'subsample': 0.877032428497428, 'colsample_bytree': 0.39755957543979553, 'max_depth': 5, 'min_child_weight': 6, 'eta': 0.00014271673399926312, 'gamma': 0.010970679774515235, 'grow_policy': 'depthwise'}. Best is trial 0 with value: 0.9238240275434156.\n",
      "[I 2024-04-11 07:27:03,526] Trial 1 finished with value: 0.9579486505316025 and parameters: {'lambda': 0.00015759690631702452, 'alpha': 0.0014456743590459831, 'subsample': 0.8848558899079879, 'colsample_bytree': 0.5187170298167147, 'max_depth': 7, 'min_child_weight': 4, 'eta': 0.20477564093236447, 'gamma': 0.615891015869714, 'grow_policy': 'depthwise'}. Best is trial 1 with value: 0.9579486505316025.\n",
      "[I 2024-04-11 07:28:22,925] Trial 2 finished with value: 0.7945500020292822 and parameters: {'lambda': 2.3617498165786126e-07, 'alpha': 1.4340399102913413e-06, 'subsample': 0.2680945972604053, 'colsample_bytree': 0.21908506438409142, 'max_depth': 7, 'min_child_weight': 2, 'eta': 0.0008727303756660508, 'gamma': 1.9642580837057422e-07, 'grow_policy': 'depthwise'}. Best is trial 1 with value: 0.9579486505316025.\n",
      "[I 2024-04-11 07:30:37,841] Trial 3 finished with value: 0.9550860313597543 and parameters: {'lambda': 0.30080872707669454, 'alpha': 1.0520760426120253e-06, 'subsample': 0.2472167993787041, 'colsample_bytree': 0.6999357507783623, 'max_depth': 5, 'min_child_weight': 10, 'eta': 1.0637330783739437e-06, 'gamma': 2.5095471306112727e-06, 'grow_policy': 'lossguide'}. Best is trial 1 with value: 0.9579486505316025.\n",
      "[I 2024-04-11 07:36:38,746] Trial 4 finished with value: 0.9536791372487418 and parameters: {'lambda': 1.7391773137507575e-08, 'alpha': 5.401870237892116e-07, 'subsample': 0.6691602170770277, 'colsample_bytree': 0.7181466780934918, 'max_depth': 7, 'min_child_weight': 4, 'eta': 1.5483006740559598e-06, 'gamma': 0.2081590033036405, 'grow_policy': 'depthwise'}. Best is trial 1 with value: 0.9579486505316025.\n",
      "[I 2024-04-11 07:38:17,647] Trial 5 finished with value: 0.06372050528103923 and parameters: {'lambda': 4.946866578827184e-07, 'alpha': 0.00010789644789992637, 'subsample': 0.23217584515594167, 'colsample_bytree': 0.46931677715164705, 'max_depth': 5, 'min_child_weight': 6, 'eta': 1.0747290240354455e-08, 'gamma': 0.5257038197237236, 'grow_policy': 'depthwise'}. Best is trial 1 with value: 0.9579486505316025.\n",
      "[I 2024-04-11 07:39:35,962] Trial 6 finished with value: 0.8780252753903723 and parameters: {'lambda': 5.317330640618292e-06, 'alpha': 3.9405493194004965e-08, 'subsample': 0.9303315431081138, 'colsample_bytree': 0.32633307525024124, 'max_depth': 3, 'min_child_weight': 3, 'eta': 4.4859876981828346e-06, 'gamma': 0.015633870622443296, 'grow_policy': 'lossguide'}. Best is trial 1 with value: 0.9579486505316025.\n",
      "[I 2024-04-11 07:41:18,033] Trial 7 finished with value: 0.8037888538567869 and parameters: {'lambda': 3.0888348261487406e-07, 'alpha': 3.82560744274888e-08, 'subsample': 0.40304527562585735, 'colsample_bytree': 0.6073389429164566, 'max_depth': 3, 'min_child_weight': 8, 'eta': 2.0774448325241753e-07, 'gamma': 0.0002926790276737653, 'grow_policy': 'lossguide'}. Best is trial 1 with value: 0.9579486505316025.\n",
      "[I 2024-04-11 07:42:33,173] Trial 8 finished with value: 0.730293146222254 and parameters: {'lambda': 0.0006011089490799222, 'alpha': 0.7654373539250986, 'subsample': 0.4796244706403334, 'colsample_bytree': 0.37353652722078085, 'max_depth': 3, 'min_child_weight': 9, 'eta': 3.937568466615117e-06, 'gamma': 4.09552650478387e-05, 'grow_policy': 'depthwise'}. Best is trial 1 with value: 0.9579486505316025.\n",
      "[I 2024-04-11 07:48:28,488] Trial 9 finished with value: 0.9458442531232599 and parameters: {'lambda': 0.07102198330123488, 'alpha': 0.0003977241911411863, 'subsample': 0.9372560738704554, 'colsample_bytree': 0.955472773144042, 'max_depth': 5, 'min_child_weight': 2, 'eta': 1.9624715148471186e-06, 'gamma': 0.0002334016808528219, 'grow_policy': 'lossguide'}. Best is trial 1 with value: 0.9579486505316025.\n",
      "[I 2024-04-11 07:52:25,846] Trial 10 finished with value: 0.9355265584178424 and parameters: {'lambda': 0.00113645232498398, 'alpha': 0.031487598496765704, 'subsample': 0.7205082459630306, 'colsample_bytree': 0.8721921979461397, 'max_depth': 9, 'min_child_weight': 5, 'eta': 0.5798033029982024, 'gamma': 1.2011832364971162e-08, 'grow_policy': 'depthwise'}. Best is trial 1 with value: 0.9579486505316025.\n",
      "[I 2024-04-11 07:55:43,606] Trial 11 finished with value: 0.9302264315505983 and parameters: {'lambda': 0.9228901985332142, 'alpha': 5.160493371483771e-06, 'subsample': 0.7731334239225774, 'colsample_bytree': 0.702288196088653, 'max_depth': 9, 'min_child_weight': 10, 'eta': 0.5526419175761944, 'gamma': 4.438745795032911e-06, 'grow_policy': 'lossguide'}. Best is trial 1 with value: 0.9579486505316025.\n",
      "[I 2024-04-11 08:00:13,808] Trial 12 finished with value: 0.9005547572338348 and parameters: {'lambda': 0.005757130643614582, 'alpha': 1.6331354546400065e-05, 'subsample': 0.5344945174425428, 'colsample_bytree': 0.6126876011670248, 'max_depth': 7, 'min_child_weight': 8, 'eta': 0.013689098182911913, 'gamma': 1.755461356716751e-06, 'grow_policy': 'lossguide'}. Best is trial 1 with value: 0.9579486505316025.\n",
      "[I 2024-04-11 08:05:02,693] Trial 13 finished with value: 0.9327421744052006 and parameters: {'lambda': 0.10170036619565374, 'alpha': 0.0014683629811503096, 'subsample': 0.35685404786228425, 'colsample_bytree': 0.784474617473642, 'max_depth': 7, 'min_child_weight': 4, 'eta': 0.00822074586404901, 'gamma': 0.003971766435973089, 'grow_policy': 'lossguide'}. Best is trial 1 with value: 0.9579486505316025.\n",
      "[I 2024-04-11 08:07:41,559] Trial 14 finished with value: 0.961636468350724 and parameters: {'lambda': 5.461389199860122e-05, 'alpha': 0.008881989292288978, 'subsample': 0.6121994795129778, 'colsample_bytree': 0.4894130238723469, 'max_depth': 5, 'min_child_weight': 7, 'eta': 4.2487971580629265e-05, 'gamma': 7.507320914778781e-06, 'grow_policy': 'depthwise'}. Best is trial 14 with value: 0.961636468350724.\n",
      "[I 2024-04-11 08:13:12,842] Trial 15 finished with value: 0.8916630248617036 and parameters: {'lambda': 4.274205335985053e-05, 'alpha': 0.016255314701864435, 'subsample': 0.81381700110509, 'colsample_bytree': 0.504101570812168, 'max_depth': 9, 'min_child_weight': 7, 'eta': 0.00019540758956790866, 'gamma': 3.6343011139102526e-05, 'grow_policy': 'depthwise'}. Best is trial 14 with value: 0.961636468350724.\n",
      "[I 2024-04-11 08:17:15,881] Trial 16 finished with value: 0.9578199542791417 and parameters: {'lambda': 0.0002522450155903352, 'alpha': 0.1939498581105917, 'subsample': 0.5735756801782209, 'colsample_bytree': 0.5349569328906029, 'max_depth': 7, 'min_child_weight': 5, 'eta': 0.022636417918405646, 'gamma': 0.0014747330763912403, 'grow_policy': 'depthwise'}. Best is trial 14 with value: 0.961636468350724.\n",
      "[I 2024-04-11 08:19:02,115] Trial 17 finished with value: 0.7482158208325139 and parameters: {'lambda': 3.447663927990521e-05, 'alpha': 0.010371051522743086, 'subsample': 0.9908667085332454, 'colsample_bytree': 0.2534300828258585, 'max_depth': 5, 'min_child_weight': 7, 'eta': 0.002228203968036711, 'gamma': 0.06395907301376355, 'grow_policy': 'depthwise'}. Best is trial 14 with value: 0.961636468350724.\n",
      "[I 2024-04-11 08:22:37,693] Trial 18 finished with value: 0.8399981020197086 and parameters: {'lambda': 0.003193770229218156, 'alpha': 5.383782420955134e-05, 'subsample': 0.6286846660464745, 'colsample_bytree': 0.4449256991328193, 'max_depth': 7, 'min_child_weight': 4, 'eta': 2.3848712254520716e-05, 'gamma': 2.0359716820967887e-07, 'grow_policy': 'depthwise'}. Best is trial 14 with value: 0.961636468350724.\n",
      "[I 2024-04-11 08:26:04,807] Trial 19 finished with value: 0.8344854997065392 and parameters: {'lambda': 1.1686705850282426e-05, 'alpha': 0.12122626863281037, 'subsample': 0.8064048845163729, 'colsample_bytree': 0.5613079468198076, 'max_depth': 5, 'min_child_weight': 5, 'eta': 0.05240466284998005, 'gamma': 1.2820659992353328e-05, 'grow_policy': 'depthwise'}. Best is trial 14 with value: 0.961636468350724.\n",
      "[I 2024-04-11 08:27:13,962] Trial 20 finished with value: 0.9056256541507534 and parameters: {'lambda': 0.016382986252329867, 'alpha': 0.00300626720342968, 'subsample': 0.6963143555087188, 'colsample_bytree': 0.3106550202306718, 'max_depth': 3, 'min_child_weight': 7, 'eta': 3.018187746978211e-05, 'gamma': 0.0008352378630650457, 'grow_policy': 'depthwise'}. Best is trial 14 with value: 0.961636468350724.\n",
      "[I 2024-04-11 08:30:50,782] Trial 21 finished with value: 0.9483087868232781 and parameters: {'lambda': 0.00023678858349191354, 'alpha': 0.2616074847991569, 'subsample': 0.5648799159101986, 'colsample_bytree': 0.5387403625446631, 'max_depth': 7, 'min_child_weight': 5, 'eta': 0.11055065640971899, 'gamma': 0.002359266316317916, 'grow_policy': 'depthwise'}. Best is trial 14 with value: 0.961636468350724.\n",
      "[I 2024-04-11 08:35:34,001] Trial 22 finished with value: 0.8314554640372084 and parameters: {'lambda': 0.00015074723868149835, 'alpha': 0.08668149479563625, 'subsample': 0.4808338634972717, 'colsample_bytree': 0.6378786871192937, 'max_depth': 7, 'min_child_weight': 3, 'eta': 0.06166925489590064, 'gamma': 0.07478308854475049, 'grow_policy': 'depthwise'}. Best is trial 14 with value: 0.961636468350724.\n",
      "[I 2024-04-11 08:39:56,255] Trial 23 finished with value: 0.9465042130006308 and parameters: {'lambda': 0.00042579056671004326, 'alpha': 0.0005356269095258262, 'subsample': 0.6371725881083052, 'colsample_bytree': 0.4274936987489224, 'max_depth': 9, 'min_child_weight': 6, 'eta': 0.0011205650704092485, 'gamma': 3.9203730127309646e-07, 'grow_policy': 'depthwise'}. Best is trial 14 with value: 0.961636468350724.\n",
      "[I 2024-04-11 08:43:01,322] Trial 24 finished with value: 0.9209615974356282 and parameters: {'lambda': 1.3969904119058602e-06, 'alpha': 0.9194977939393115, 'subsample': 0.4293582705081605, 'colsample_bytree': 0.5179453248194789, 'max_depth': 7, 'min_child_weight': 3, 'eta': 0.008462647091438832, 'gamma': 0.7433695470004649, 'grow_policy': 'depthwise'}. Best is trial 14 with value: 0.961636468350724.\n",
      "[I 2024-04-11 08:44:57,868] Trial 25 finished with value: 0.8011804464855428 and parameters: {'lambda': 9.9935878531355e-05, 'alpha': 0.01078855726099213, 'subsample': 0.5789780033301816, 'colsample_bytree': 0.4880760895083075, 'max_depth': 5, 'min_child_weight': 5, 'eta': 0.9693898084772624, 'gamma': 0.0011135394042427209, 'grow_policy': 'depthwise'}. Best is trial 14 with value: 0.961636468350724.\n",
      "[I 2024-04-11 08:48:59,804] Trial 26 finished with value: 0.9219969641894975 and parameters: {'lambda': 0.0024628176926670157, 'alpha': 0.049972181318528576, 'subsample': 0.7318456307012509, 'colsample_bytree': 0.5788932486405285, 'max_depth': 7, 'min_child_weight': 8, 'eta': 0.1572365749365642, 'gamma': 0.00010487560346096699, 'grow_policy': 'depthwise'}. Best is trial 14 with value: 0.961636468350724.\n",
      "[I 2024-04-11 08:56:32,779] Trial 27 finished with value: 0.9496950500896322 and parameters: {'lambda': 3.314769999046994e-05, 'alpha': 0.004806514443263465, 'subsample': 0.8524799353742052, 'colsample_bytree': 0.6487013004647617, 'max_depth': 9, 'min_child_weight': 4, 'eta': 0.024232630119172874, 'gamma': 0.029714671107936727, 'grow_policy': 'depthwise'}. Best is trial 14 with value: 0.961636468350724.\n",
      "[I 2024-04-11 08:58:09,425] Trial 28 finished with value: 0.7293657954706387 and parameters: {'lambda': 0.011072481206961882, 'alpha': 0.0005304649839977675, 'subsample': 0.32074653308015977, 'colsample_bytree': 0.36711647304149264, 'max_depth': 5, 'min_child_weight': 7, 'eta': 0.00038219824315677617, 'gamma': 1.7950056189724647e-08, 'grow_policy': 'depthwise'}. Best is trial 14 with value: 0.961636468350724.\n",
      "[I 2024-04-11 09:01:13,328] Trial 29 finished with value: 0.8417062328173205 and parameters: {'lambda': 4.476345603559356e-06, 'alpha': 0.3052801097549424, 'subsample': 0.5223736515988169, 'colsample_bytree': 0.4033479111606091, 'max_depth': 7, 'min_child_weight': 6, 'eta': 3.740461915332242e-05, 'gamma': 0.005134636526889081, 'grow_policy': 'depthwise'}. Best is trial 14 with value: 0.961636468350724.\n",
      "[I 2024-04-11 09:06:28,454] Trial 30 finished with value: 0.9718382906644326 and parameters: {'lambda': 1.466741469232014e-05, 'alpha': 0.0015496576484079652, 'subsample': 0.8836494945730269, 'colsample_bytree': 0.7829005502697732, 'max_depth': 5, 'min_child_weight': 5, 'eta': 0.002745938030932424, 'gamma': 7.37470491783957e-07, 'grow_policy': 'depthwise'}. Best is trial 30 with value: 0.9718382906644326.\n",
      "[I 2024-04-11 09:11:56,265] Trial 31 finished with value: 0.947836553942773 and parameters: {'lambda': 1.3356090191829471e-05, 'alpha': 0.0018833921803593325, 'subsample': 0.9167776789099604, 'colsample_bytree': 0.8174830012790302, 'max_depth': 5, 'min_child_weight': 5, 'eta': 0.0036086647464132586, 'gamma': 9.886599362614402e-07, 'grow_policy': 'depthwise'}. Best is trial 30 with value: 0.9718382906644326.\n",
      "[I 2024-04-11 09:18:16,348] Trial 32 finished with value: 0.8768210812201614 and parameters: {'lambda': 7.328430451118174e-05, 'alpha': 0.00020465910297005609, 'subsample': 0.8600107140580646, 'colsample_bytree': 0.9713745643511909, 'max_depth': 5, 'min_child_weight': 6, 'eta': 0.00010217230971330475, 'gamma': 4.59894079568553e-08, 'grow_policy': 'depthwise'}. Best is trial 30 with value: 0.9718382906644326.\n",
      "[I 2024-04-11 09:22:28,263] Trial 33 finished with value: 0.9488262389116221 and parameters: {'lambda': 1.5702287125980916e-06, 'alpha': 0.001182614870368827, 'subsample': 0.7810902429859374, 'colsample_bytree': 0.6654109018359704, 'max_depth': 5, 'min_child_weight': 4, 'eta': 0.0005299572270204893, 'gamma': 8.145852187551741e-06, 'grow_policy': 'depthwise'}. Best is trial 30 with value: 0.9718382906644326.\n",
      "[I 2024-04-11 09:29:40,925] Trial 34 finished with value: 0.9725637459100692 and parameters: {'lambda': 0.0010041351651543825, 'alpha': 0.005709987636930291, 'subsample': 0.9794808845466684, 'colsample_bytree': 0.771828220298, 'max_depth': 7, 'min_child_weight': 3, 'eta': 0.002806057913561531, 'gamma': 9.457239856021425e-07, 'grow_policy': 'depthwise'}. Best is trial 34 with value: 0.9725637459100692.\n",
      "[I 2024-04-11 09:35:08,444] Trial 35 finished with value: 0.846541009056342 and parameters: {'lambda': 4.889831654188829e-08, 'alpha': 0.005859687217641398, 'subsample': 0.9994881503253775, 'colsample_bytree': 0.7698568890198596, 'max_depth': 5, 'min_child_weight': 2, 'eta': 0.0028394486028628747, 'gamma': 6.569679393389738e-07, 'grow_policy': 'depthwise'}. Best is trial 34 with value: 0.9725637459100692.\n",
      "[I 2024-04-11 09:42:08,531] Trial 36 finished with value: 0.9381678697909663 and parameters: {'lambda': 0.0013580601678546396, 'alpha': 5.389186922409615e-05, 'subsample': 0.897573583827468, 'colsample_bytree': 0.7447053905983511, 'max_depth': 7, 'min_child_weight': 3, 'eta': 1.3628660577206106e-07, 'gamma': 6.566491060822268e-08, 'grow_policy': 'depthwise'}. Best is trial 34 with value: 0.9725637459100692.\n",
      "[I 2024-04-11 09:45:49,279] Trial 37 finished with value: 0.9368270532495643 and parameters: {'lambda': 2.017122843621519e-06, 'alpha': 0.020892702807136915, 'subsample': 0.9490290985263817, 'colsample_bytree': 0.9013427320087193, 'max_depth': 3, 'min_child_weight': 2, 'eta': 1.7166402973867445e-05, 'gamma': 1.4855254314766566e-05, 'grow_policy': 'depthwise'}. Best is trial 34 with value: 0.9725637459100692.\n",
      "[I 2024-04-11 09:53:23,290] Trial 38 finished with value: 0.9398340855797976 and parameters: {'lambda': 1.4160621756054425e-05, 'alpha': 0.00015217928994396755, 'subsample': 0.8602289367459222, 'colsample_bytree': 0.8468106271851836, 'max_depth': 7, 'min_child_weight': 3, 'eta': 0.0011779660053107604, 'gamma': 4.107329044907977e-06, 'grow_policy': 'depthwise'}. Best is trial 34 with value: 0.9725637459100692.\n",
      "[I 2024-04-11 09:59:24,369] Trial 39 finished with value: 0.9551138908010364 and parameters: {'lambda': 0.0005304857967923566, 'alpha': 1.5809243283716895e-07, 'subsample': 0.9664220028884338, 'colsample_bytree': 0.9070759407703517, 'max_depth': 5, 'min_child_weight': 4, 'eta': 0.00020216524364881166, 'gamma': 1.1886438061410875e-07, 'grow_policy': 'lossguide'}. Best is trial 34 with value: 0.9725637459100692.\n",
      "[W 2024-04-11 10:02:07,907] Trial 40 failed with parameters: {'lambda': 8.80860689512171e-08, 'alpha': 1.6636766946761075e-05, 'subsample': 0.8746801127006449, 'colsample_bytree': 0.731231306159948, 'max_depth': 5, 'min_child_weight': 3, 'eta': 0.25578797739879877, 'gamma': 1.8354810280239361e-06, 'grow_policy': 'depthwise'} because of the following error: The value nan is not acceptable.\n",
      "[W 2024-04-11 10:02:07,911] Trial 40 failed with value nan.\n",
      "[I 2024-04-11 10:06:16,930] Trial 41 finished with value: 0.7541644147592379 and parameters: {'lambda': 8.034426218672425e-05, 'alpha': 0.0009434656471059013, 'subsample': 0.8887850175582638, 'colsample_bytree': 0.6844808632136181, 'max_depth': 5, 'min_child_weight': 3, 'eta': 0.22114128529418242, 'gamma': 4.158456741823207e-05, 'grow_policy': 'depthwise'}. Best is trial 34 with value: 0.9725637459100692.\n",
      "[I 2024-04-11 10:10:17,400] Trial 42 finished with value: 0.8958103796319317 and parameters: {'lambda': 0.0002976318631246744, 'alpha': 0.004141057698032465, 'subsample': 0.6360979397266958, 'colsample_bytree': 0.47334555115194155, 'max_depth': 7, 'min_child_weight': 5, 'eta': 0.029755608399865307, 'gamma': 0.20186120179192515, 'grow_policy': 'depthwise'}. Best is trial 34 with value: 0.9725637459100692.\n",
      "[I 2024-04-11 10:15:49,731] Trial 43 finished with value: 0.9488215655371578 and parameters: {'lambda': 0.0010665439097845234, 'alpha': 0.038892279136209754, 'subsample': 0.7444329162678953, 'colsample_bytree': 0.571044560016509, 'max_depth': 7, 'min_child_weight': 6, 'eta': 0.009022541788889811, 'gamma': 2.4386958797887037e-06, 'grow_policy': 'depthwise'}. Best is trial 34 with value: 0.9725637459100692.\n",
      "[I 2024-04-11 10:20:53,638] Trial 44 finished with value: 0.8468997154917224 and parameters: {'lambda': 0.0001470577293258992, 'alpha': 0.10559336038176596, 'subsample': 0.8365041060992682, 'colsample_bytree': 0.7341366063208534, 'max_depth': 7, 'min_child_weight': 4, 'eta': 0.32837415064003606, 'gamma': 4.43955113266913e-07, 'grow_policy': 'depthwise'}. Best is trial 34 with value: 0.9725637459100692.\n",
      "[I 2024-04-11 10:24:20,988] Trial 45 finished with value: 0.9497756363216855 and parameters: {'lambda': 2.1353827641797033e-05, 'alpha': 0.01054362781505154, 'subsample': 0.20317852235100153, 'colsample_bytree': 0.8061907725150464, 'max_depth': 7, 'min_child_weight': 5, 'eta': 8.439215931471476e-06, 'gamma': 1.3811738345384766e-06, 'grow_policy': 'depthwise'}. Best is trial 34 with value: 0.9725637459100692.\n",
      "[I 2024-04-11 10:27:44,509] Trial 46 finished with value: 0.9157628104311127 and parameters: {'lambda': 0.0006967349511645116, 'alpha': 0.32841953346529623, 'subsample': 0.6703968879799226, 'colsample_bytree': 0.6038523449088633, 'max_depth': 5, 'min_child_weight': 4, 'eta': 0.02439765249022862, 'gamma': 0.0001845430667215257, 'grow_policy': 'lossguide'}. Best is trial 34 with value: 0.9725637459100692.\n",
      "[I 2024-04-11 10:33:10,420] Trial 47 finished with value: 0.8171293592730525 and parameters: {'lambda': 5.22700358109379e-06, 'alpha': 0.0023065425326857744, 'subsample': 0.9541320711965995, 'colsample_bytree': 0.5384407372584369, 'max_depth': 7, 'min_child_weight': 6, 'eta': 0.0037899200527049893, 'gamma': 0.0005346905321838008, 'grow_policy': 'depthwise'}. Best is trial 34 with value: 0.9725637459100692.\n",
      "[I 2024-04-11 10:34:55,791] Trial 48 finished with value: 0.8439137188390903 and parameters: {'lambda': 6.395455206754904e-07, 'alpha': 1.6132654003890314e-05, 'subsample': 0.9135138832871496, 'colsample_bytree': 0.42665450853307835, 'max_depth': 3, 'min_child_weight': 9, 'eta': 6.718052299942318e-05, 'gamma': 0.01192872356755659, 'grow_policy': 'lossguide'}. Best is trial 34 with value: 0.9725637459100692.\n",
      "[I 2024-04-11 10:40:04,925] Trial 49 finished with value: 0.9724353299957543 and parameters: {'lambda': 5.1580821681507554e-05, 'alpha': 1.2189707159645777e-08, 'subsample': 0.44800284844706534, 'colsample_bytree': 0.6189759532377175, 'max_depth': 9, 'min_child_weight': 7, 'eta': 2.9745103729367464e-07, 'gamma': 2.3742759846090756e-05, 'grow_policy': 'depthwise'}. Best is trial 34 with value: 0.9725637459100692.\n",
      "[I 2024-04-11 10:44:31,528] Trial 50 finished with value: 0.9480826613429699 and parameters: {'lambda': 4.669165128906248e-05, 'alpha': 6.882815530303873e-08, 'subsample': 0.30386155996898606, 'colsample_bytree': 0.6930046270499447, 'max_depth': 9, 'min_child_weight': 8, 'eta': 3.447570546265289e-07, 'gamma': 2.643209507086285e-05, 'grow_policy': 'depthwise'}. Best is trial 34 with value: 0.9725637459100692.\n",
      "[I 2024-04-11 10:50:06,020] Trial 51 finished with value: 0.06581817262289079 and parameters: {'lambda': 0.03143405717039959, 'alpha': 1.7273792973746263e-06, 'subsample': 0.4053815702628538, 'colsample_bytree': 0.623767214021437, 'max_depth': 9, 'min_child_weight': 7, 'eta': 1.7983764189689798e-08, 'gamma': 6.798362813153668e-06, 'grow_policy': 'depthwise'}. Best is trial 34 with value: 0.9725637459100692.\n",
      "[I 2024-04-11 10:54:20,191] Trial 52 finished with value: 0.9223257656479483 and parameters: {'lambda': 0.00021782122947217508, 'alpha': 5.021213919490663e-07, 'subsample': 0.4796290934575872, 'colsample_bytree': 0.46230563206373826, 'max_depth': 9, 'min_child_weight': 6, 'eta': 0.055896702544968195, 'gamma': 8.910872892760746e-05, 'grow_policy': 'depthwise'}. Best is trial 34 with value: 0.9725637459100692.\n",
      "[I 2024-04-11 10:59:11,083] Trial 53 finished with value: 0.8740425929472635 and parameters: {'lambda': 0.0028316190550192544, 'alpha': 1.9096371278884817e-08, 'subsample': 0.5088229990115585, 'colsample_bytree': 0.5153718232086788, 'max_depth': 9, 'min_child_weight': 7, 'eta': 4.30994360245471e-08, 'gamma': 3.2918491507508864e-06, 'grow_policy': 'depthwise'}. Best is trial 34 with value: 0.9725637459100692.\n",
      "[I 2024-04-11 11:02:43,077] Trial 54 finished with value: 0.9490314030569058 and parameters: {'lambda': 7.594045978386031e-06, 'alpha': 0.0003749858732799329, 'subsample': 0.43835581271779483, 'colsample_bytree': 0.5468274505668427, 'max_depth': 7, 'min_child_weight': 9, 'eta': 1.1898971837315725e-06, 'gamma': 0.32851067070966705, 'grow_policy': 'depthwise'}. Best is trial 34 with value: 0.9725637459100692.\n",
      "[I 2024-04-11 11:05:58,997] Trial 55 finished with value: 0.9421898147185551 and parameters: {'lambda': 2.4007098545230284e-05, 'alpha': 5.176951774551001e-05, 'subsample': 0.5837023696230987, 'colsample_bytree': 0.5866333778548615, 'max_depth': 5, 'min_child_weight': 5, 'eta': 2.964636840881789e-06, 'gamma': 2.700815890931166e-07, 'grow_policy': 'depthwise'}. Best is trial 34 with value: 0.9725637459100692.\n",
      "[I 2024-04-11 11:12:09,671] Trial 56 finished with value: 0.9484378493483541 and parameters: {'lambda': 5.257434672120648e-05, 'alpha': 0.008577473001283436, 'subsample': 0.5513448579741457, 'colsample_bytree': 0.7520646680681372, 'max_depth': 7, 'min_child_weight': 8, 'eta': 0.005326227805037768, 'gamma': 1.5702538733020335e-05, 'grow_policy': 'depthwise'}. Best is trial 34 with value: 0.9725637459100692.\n",
      "[I 2024-04-11 11:17:04,649] Trial 57 finished with value: 0.8995017912807667 and parameters: {'lambda': 0.00016687796831854325, 'alpha': 0.0008634571572371864, 'subsample': 0.3458596913527108, 'colsample_bytree': 0.7123805644850233, 'max_depth': 9, 'min_child_weight': 6, 'eta': 0.000637122123281128, 'gamma': 7.277280756686146e-05, 'grow_policy': 'lossguide'}. Best is trial 34 with value: 0.9725637459100692.\n",
      "[I 2024-04-11 11:19:34,534] Trial 58 finished with value: 0.6559394017811421 and parameters: {'lambda': 0.007377556134672097, 'alpha': 0.02678120169205172, 'subsample': 0.8154539598344752, 'colsample_bytree': 0.35713099678133764, 'max_depth': 5, 'min_child_weight': 7, 'eta': 0.0018216886260271935, 'gamma': 9.524091177870563e-07, 'grow_policy': 'depthwise'}. Best is trial 34 with value: 0.9725637459100692.\n",
      "[I 2024-04-11 11:22:30,324] Trial 59 finished with value: 0.9582077079521217 and parameters: {'lambda': 0.0003574882899917997, 'alpha': 0.05019827711721866, 'subsample': 0.7674458499742024, 'colsample_bytree': 0.848950050801508, 'max_depth': 3, 'min_child_weight': 3, 'eta': 0.09627846696348347, 'gamma': 5.556287894470531e-06, 'grow_policy': 'depthwise'}. Best is trial 34 with value: 0.9725637459100692.\n",
      "[I 2024-04-11 11:26:02,871] Trial 60 finished with value: 0.9661716864254862 and parameters: {'lambda': 0.0019293359065497358, 'alpha': 0.061729141128415495, 'subsample': 0.7873647698756034, 'colsample_bytree': 0.9368582600537213, 'max_depth': 3, 'min_child_weight': 2, 'eta': 0.09495193315646677, 'gamma': 8.269063942989612e-06, 'grow_policy': 'depthwise'}. Best is trial 34 with value: 0.9725637459100692.\n",
      "[I 2024-04-11 11:29:44,165] Trial 61 finished with value: 0.8851260350461256 and parameters: {'lambda': 0.0011446496152259084, 'alpha': 0.06908719773066108, 'subsample': 0.7835315342217701, 'colsample_bytree': 0.9955204102269348, 'max_depth': 3, 'min_child_weight': 2, 'eta': 0.10222626335204572, 'gamma': 6.702314876894044e-06, 'grow_policy': 'depthwise'}. Best is trial 34 with value: 0.9725637459100692.\n",
      "[I 2024-04-11 11:32:48,142] Trial 62 finished with value: 0.8566102225651225 and parameters: {'lambda': 0.0053306351842983485, 'alpha': 0.01673718455701655, 'subsample': 0.755488838417997, 'colsample_bytree': 0.9203500995970102, 'max_depth': 3, 'min_child_weight': 2, 'eta': 0.4338629139082959, 'gamma': 2.1605195176504703e-06, 'grow_policy': 'depthwise'}. Best is trial 34 with value: 0.9725637459100692.\n",
      "[I 2024-04-11 11:35:51,245] Trial 63 finished with value: 0.9519308038791171 and parameters: {'lambda': 0.0003421332860821575, 'alpha': 0.0032544858835908655, 'subsample': 0.701909568224861, 'colsample_bytree': 0.8617551608401512, 'max_depth': 3, 'min_child_weight': 3, 'eta': 0.08369030611642025, 'gamma': 2.2689769471047625e-05, 'grow_policy': 'depthwise'}. Best is trial 34 with value: 0.9725637459100692.\n",
      "[I 2024-04-11 11:39:05,818] Trial 64 finished with value: 0.9319609472300208 and parameters: {'lambda': 0.00011236266126416928, 'alpha': 0.48257406264791647, 'subsample': 0.8238903957219447, 'colsample_bytree': 0.8316909707269077, 'max_depth': 3, 'min_child_weight': 2, 'eta': 5.775853842588763e-07, 'gamma': 8.679534391205807e-06, 'grow_policy': 'depthwise'}. Best is trial 34 with value: 0.9725637459100692.\n",
      "[I 2024-04-11 11:42:03,238] Trial 65 finished with value: 0.9287122125813932 and parameters: {'lambda': 0.0018171631467799698, 'alpha': 0.16574242610577686, 'subsample': 0.8852333853263845, 'colsample_bytree': 0.7898942950758097, 'max_depth': 3, 'min_child_weight': 3, 'eta': 0.2572182149249118, 'gamma': 5.410542316202091e-05, 'grow_policy': 'depthwise'}. Best is trial 34 with value: 0.9725637459100692.\n",
      "[I 2024-04-11 11:45:46,492] Trial 66 finished with value: 0.8335218842345782 and parameters: {'lambda': 0.0008001145259721563, 'alpha': 0.03814427051519602, 'subsample': 0.9759589190341937, 'colsample_bytree': 0.9326959441215231, 'max_depth': 3, 'min_child_weight': 4, 'eta': 0.014651142784999929, 'gamma': 1.6657160423032543e-06, 'grow_policy': 'depthwise'}. Best is trial 34 with value: 0.9725637459100692.\n",
      "[I 2024-04-11 11:49:11,396] Trial 67 finished with value: 0.9443081156202197 and parameters: {'lambda': 0.0005243184300699174, 'alpha': 0.005461522685278442, 'subsample': 0.9386473218745195, 'colsample_bytree': 0.8768941009358981, 'max_depth': 3, 'min_child_weight': 3, 'eta': 9.841971307909233e-06, 'gamma': 5.958387652585926e-07, 'grow_policy': 'depthwise'}. Best is trial 34 with value: 0.9725637459100692.\n",
      "[I 2024-04-11 11:52:33,050] Trial 68 finished with value: 0.8556310961354843 and parameters: {'lambda': 3.0804715765365884e-06, 'alpha': 0.05729858316605101, 'subsample': 0.8009083611181943, 'colsample_bytree': 0.9465273858850675, 'max_depth': 3, 'min_child_weight': 2, 'eta': 0.850474150135485, 'gamma': 4.596640090697304e-06, 'grow_policy': 'depthwise'}. Best is trial 34 with value: 0.9725637459100692.\n",
      "[I 2024-04-11 11:57:29,182] Trial 69 finished with value: 0.9582181843562783 and parameters: {'lambda': 0.004509086477112085, 'alpha': 0.0016235963573956202, 'subsample': 0.6718739018753994, 'colsample_bytree': 0.8818716070728669, 'max_depth': 5, 'min_child_weight': 4, 'eta': 0.043456460078287816, 'gamma': 1.1916102295143913e-07, 'grow_policy': 'lossguide'}. Best is trial 34 with value: 0.9725637459100692.\n",
      "[I 2024-04-11 12:02:33,937] Trial 70 finished with value: 0.9432896403588339 and parameters: {'lambda': 0.026615129617525525, 'alpha': 0.015636969786561337, 'subsample': 0.6646359862954963, 'colsample_bytree': 0.8802946799816178, 'max_depth': 5, 'min_child_weight': 3, 'eta': 0.03776212810559524, 'gamma': 1.3077808591449835e-07, 'grow_policy': 'lossguide'}. Best is trial 34 with value: 0.9725637459100692.\n",
      "[I 2024-04-11 12:08:01,830] Trial 71 finished with value: 0.9069619437079618 and parameters: {'lambda': 0.007071785855982161, 'alpha': 0.006882938573579066, 'subsample': 0.6096761781351935, 'colsample_bytree': 0.9746328204953518, 'max_depth': 5, 'min_child_weight': 4, 'eta': 0.00029188044443842964, 'gamma': 3.467507104914415e-08, 'grow_policy': 'lossguide'}. Best is trial 34 with value: 0.9725637459100692.\n",
      "[I 2024-04-11 12:12:46,377] Trial 72 finished with value: 0.8900888920271545 and parameters: {'lambda': 0.004541212800082806, 'alpha': 0.0021233081441131662, 'subsample': 0.6978586287720243, 'colsample_bytree': 0.8341961096685384, 'max_depth': 5, 'min_child_weight': 3, 'eta': 0.15292985605930776, 'gamma': 2.850930000143415e-07, 'grow_policy': 'lossguide'}. Best is trial 34 with value: 0.9725637459100692.\n",
      "[I 2024-04-11 12:17:50,412] Trial 73 finished with value: 0.8910231984644529 and parameters: {'lambda': 0.14495333633549198, 'alpha': 0.0002283103028557833, 'subsample': 0.6746010472562924, 'colsample_bytree': 0.797860365222991, 'max_depth': 5, 'min_child_weight': 4, 'eta': 0.012101636813244098, 'gamma': 9.634761773659407e-07, 'grow_policy': 'lossguide'}. Best is trial 34 with value: 0.9725637459100692.\n",
      "[I 2024-04-11 12:22:08,372] Trial 74 finished with value: 0.9293820234747551 and parameters: {'lambda': 6.325068053060803e-05, 'alpha': 0.0013754170716466316, 'subsample': 0.7148593325892124, 'colsample_bytree': 0.7702652458554053, 'max_depth': 5, 'min_child_weight': 5, 'eta': 0.14459117820283973, 'gamma': 0.00016264485976712036, 'grow_policy': 'lossguide'}. Best is trial 34 with value: 0.9725637459100692.\n",
      "[I 2024-04-11 12:24:54,607] Trial 75 finished with value: 0.9305340045920545 and parameters: {'lambda': 0.002036492845310054, 'alpha': 0.0006224443100912338, 'subsample': 0.609238866927151, 'colsample_bytree': 0.8938533633341307, 'max_depth': 3, 'min_child_weight': 4, 'eta': 0.5602273874232356, 'gamma': 9.322936317239437e-08, 'grow_policy': 'depthwise'}. Best is trial 34 with value: 0.9725637459100692.\n",
      "[I 2024-04-11 12:29:52,659] Trial 76 finished with value: 0.9438198705763176 and parameters: {'lambda': 0.014682034315607136, 'alpha': 0.00037756834323895576, 'subsample': 0.7507863797523321, 'colsample_bytree': 0.8541396828933068, 'max_depth': 5, 'min_child_weight': 3, 'eta': 0.049516455734155834, 'gamma': 1.1131564557617271e-05, 'grow_policy': 'depthwise'}. Best is trial 34 with value: 0.9725637459100692.\n",
      "[I 2024-04-11 12:36:04,195] Trial 77 finished with value: 0.8430647339448686 and parameters: {'lambda': 2.27114763962114e-05, 'alpha': 0.0031411277817751937, 'subsample': 0.8631159466067329, 'colsample_bytree': 0.9282899048157458, 'max_depth': 5, 'min_child_weight': 2, 'eta': 0.07428409610898584, 'gamma': 2.039377729743394e-05, 'grow_policy': 'depthwise'}. Best is trial 34 with value: 0.9725637459100692.\n",
      "[I 2024-04-11 12:38:10,958] Trial 78 finished with value: 0.9429907578516108 and parameters: {'lambda': 0.0003706895240192529, 'alpha': 0.02549433217039153, 'subsample': 0.9035963135356377, 'colsample_bytree': 0.49721000763332, 'max_depth': 3, 'min_child_weight': 7, 'eta': 0.01627461435858307, 'gamma': 4.43664234695664e-06, 'grow_policy': 'depthwise'}. Best is trial 34 with value: 0.9725637459100692.\n",
      "[I 2024-04-11 12:43:25,955] Trial 79 finished with value: 0.9350418067463452 and parameters: {'lambda': 8.944454145240504e-05, 'alpha': 8.741134439996235e-05, 'subsample': 0.8356137892312683, 'colsample_bytree': 0.820410615494939, 'max_depth': 5, 'min_child_weight': 4, 'eta': 0.005302577625897855, 'gamma': 0.0004249992084725853, 'grow_policy': 'lossguide'}. Best is trial 34 with value: 0.9725637459100692.\n",
      "[I 2024-04-11 12:47:47,848] Trial 80 finished with value: 0.8390861177065873 and parameters: {'lambda': 9.604633815534328e-06, 'alpha': 1.457693285158165e-05, 'subsample': 0.7729271884820544, 'colsample_bytree': 0.669588240267494, 'max_depth': 7, 'min_child_weight': 8, 'eta': 0.2352395636169702, 'gamma': 2.176426839808471e-08, 'grow_policy': 'depthwise'}. Best is trial 34 with value: 0.9725637459100692.\n",
      "[I 2024-04-11 12:54:43,041] Trial 81 finished with value: 0.8972523601629696 and parameters: {'lambda': 3.399259446405076e-05, 'alpha': 0.15647489250169294, 'subsample': 0.6466765465771626, 'colsample_bytree': 0.728665723833921, 'max_depth': 9, 'min_child_weight': 3, 'eta': 0.0014829335526606766, 'gamma': 1.88545161111205e-07, 'grow_policy': 'depthwise'}. Best is trial 34 with value: 0.9725637459100692.\n",
      "[I 2024-04-11 12:58:37,962] Trial 82 finished with value: 0.9112249605277545 and parameters: {'lambda': 0.00019346580423367716, 'alpha': 0.0138464907791352, 'subsample': 0.4486077643169393, 'colsample_bytree': 0.5309646327742142, 'max_depth': 7, 'min_child_weight': 5, 'eta': 0.02731176893824122, 'gamma': 0.0032916369649211874, 'grow_policy': 'depthwise'}. Best is trial 34 with value: 0.9725637459100692.\n",
      "[I 2024-04-11 13:03:21,367] Trial 83 finished with value: 0.9497213102154968 and parameters: {'lambda': 0.0008167163498296499, 'alpha': 0.09236815492105761, 'subsample': 0.9274157426721098, 'colsample_bytree': 0.48968944061463787, 'max_depth': 7, 'min_child_weight': 5, 'eta': 0.039964536318488536, 'gamma': 0.04876818759003955, 'grow_policy': 'depthwise'}. Best is trial 34 with value: 0.9725637459100692.\n",
      "[I 2024-04-11 13:06:57,404] Trial 84 finished with value: 0.8204392973545932 and parameters: {'lambda': 0.00011712203048603982, 'alpha': 0.7471520304477597, 'subsample': 0.5563626240587314, 'colsample_bytree': 0.4485836886955728, 'max_depth': 7, 'min_child_weight': 6, 'eta': 0.019582675958027613, 'gamma': 0.0011812022068035087, 'grow_policy': 'depthwise'}. Best is trial 34 with value: 0.9725637459100692.\n",
      "[I 2024-04-11 13:10:13,819] Trial 85 finished with value: 0.887048696699706 and parameters: {'lambda': 0.0002861631923157464, 'alpha': 0.22918601297641328, 'subsample': 0.5035516560328366, 'colsample_bytree': 0.41564912418520295, 'max_depth': 7, 'min_child_weight': 4, 'eta': 0.00831313953145516, 'gamma': 0.007445142465861839, 'grow_policy': 'depthwise'}. Best is trial 34 with value: 0.9725637459100692.\n",
      "[I 2024-04-11 13:16:15,988] Trial 86 finished with value: 0.9668925330301787 and parameters: {'lambda': 0.0004778177078416746, 'alpha': 0.049427692082040176, 'subsample': 0.7302933206132529, 'colsample_bytree': 0.763414019597366, 'max_depth': 7, 'min_child_weight': 6, 'eta': 5.695504350708793e-05, 'gamma': 1.4830030879877697e-06, 'grow_policy': 'depthwise'}. Best is trial 34 with value: 0.9725637459100692.\n",
      "[I 2024-04-11 13:18:19,705] Trial 87 finished with value: 0.8319820780534113 and parameters: {'lambda': 0.0037493291262769143, 'alpha': 0.04250931958835379, 'subsample': 0.7158266082363823, 'colsample_bytree': 0.20238557665248114, 'max_depth': 7, 'min_child_weight': 7, 'eta': 0.0001262162290309687, 'gamma': 2.9537632320867904e-06, 'grow_policy': 'depthwise'}. Best is trial 34 with value: 0.9725637459100692.\n",
      "[I 2024-04-11 13:23:11,549] Trial 88 finished with value: 0.9469075001869586 and parameters: {'lambda': 0.0015824627345392243, 'alpha': 0.007426046475184549, 'subsample': 0.7673052408928916, 'colsample_bytree': 0.770527167407081, 'max_depth': 5, 'min_child_weight': 7, 'eta': 6.0609563947024125e-05, 'gamma': 1.4303471882735188e-06, 'grow_policy': 'depthwise'}. Best is trial 34 with value: 0.9725637459100692.\n",
      "[I 2024-04-11 13:29:26,832] Trial 89 finished with value: 0.8036945123757874 and parameters: {'lambda': 1.064792470423401e-08, 'alpha': 1.0666902397937932e-08, 'subsample': 0.739629148103395, 'colsample_bytree': 0.7530590421345621, 'max_depth': 7, 'min_child_weight': 6, 'eta': 2.2646415275046047e-05, 'gamma': 4.849706072854528e-07, 'grow_policy': 'depthwise'}. Best is trial 34 with value: 0.9725637459100692.\n",
      "[I 2024-04-11 13:38:39,009] Trial 90 finished with value: 0.9636828808611281 and parameters: {'lambda': 1.7179388371627056e-05, 'alpha': 0.004413245558663258, 'subsample': 0.7979220251782236, 'colsample_bytree': 0.8115711791825119, 'max_depth': 9, 'min_child_weight': 6, 'eta': 5.066004934349095e-05, 'gamma': 3.2767158180557614e-05, 'grow_policy': 'lossguide'}. Best is trial 34 with value: 0.9725637459100692.\n",
      "[I 2024-04-11 13:48:26,712] Trial 91 finished with value: 0.9643184602371931 and parameters: {'lambda': 1.408653023729069e-05, 'alpha': 0.004381173020275033, 'subsample': 0.7967933686027331, 'colsample_bytree': 0.8399815516639855, 'max_depth': 9, 'min_child_weight': 6, 'eta': 7.58478034730638e-05, 'gamma': 4.171539686462619e-05, 'grow_policy': 'lossguide'}. Best is trial 34 with value: 0.9725637459100692.\n",
      "[I 2024-04-11 13:58:10,495] Trial 92 finished with value: 0.9494163498748018 and parameters: {'lambda': 1.4600943317392893e-05, 'alpha': 0.004183285063105014, 'subsample': 0.7940453988688533, 'colsample_bytree': 0.8120718383663074, 'max_depth': 9, 'min_child_weight': 6, 'eta': 0.00019279519081649883, 'gamma': 2.61468747494613e-05, 'grow_policy': 'lossguide'}. Best is trial 34 with value: 0.9725637459100692.\n",
      "[I 2024-04-11 14:07:36,622] Trial 93 finished with value: 0.9251156723797725 and parameters: {'lambda': 3.142456553940248e-06, 'alpha': 0.0016586029376308056, 'subsample': 0.6824760306512251, 'colsample_bytree': 0.8476862018240358, 'max_depth': 9, 'min_child_weight': 6, 'eta': 4.9089692014040455e-05, 'gamma': 5.873322239113028e-06, 'grow_policy': 'lossguide'}. Best is trial 34 with value: 0.9725637459100692.\n",
      "[I 2024-04-11 14:18:45,894] Trial 94 finished with value: 0.9391060322732182 and parameters: {'lambda': 2.8790000702946037e-05, 'alpha': 0.010154574798090062, 'subsample': 0.8442733036903198, 'colsample_bytree': 0.8917252261692428, 'max_depth': 9, 'min_child_weight': 6, 'eta': 1.0948849045719625e-05, 'gamma': 4.194709628620012e-05, 'grow_policy': 'lossguide'}. Best is trial 34 with value: 0.9725637459100692.\n",
      "[I 2024-04-11 14:26:50,527] Trial 95 finished with value: 0.9702514505659616 and parameters: {'lambda': 1.2323157607749268e-05, 'alpha': 0.022486898870163974, 'subsample': 0.6524891812561168, 'colsample_bytree': 0.7797081165210161, 'max_depth': 9, 'min_child_weight': 7, 'eta': 4.270324496508053e-06, 'gamma': 1.042079554921543e-05, 'grow_policy': 'lossguide'}. Best is trial 34 with value: 0.9725637459100692.\n",
      "[I 2024-04-11 14:34:17,473] Trial 96 finished with value: 0.8324535179240607 and parameters: {'lambda': 7.234669422536964e-06, 'alpha': 0.02255139308927662, 'subsample': 0.6491998064917538, 'colsample_bytree': 0.7174826121194482, 'max_depth': 9, 'min_child_weight': 7, 'eta': 9.539917337175593e-05, 'gamma': 1.1676029485733236e-05, 'grow_policy': 'lossguide'}. Best is trial 34 with value: 0.9725637459100692.\n",
      "[I 2024-04-11 14:42:47,720] Trial 97 finished with value: 0.9597476029956912 and parameters: {'lambda': 9.693369905047257e-07, 'alpha': 0.0025934859613716437, 'subsample': 0.7299963770492105, 'colsample_bytree': 0.7746691295608148, 'max_depth': 9, 'min_child_weight': 7, 'eta': 6.429668505537955e-06, 'gamma': 6.227787288104227e-05, 'grow_policy': 'lossguide'}. Best is trial 34 with value: 0.9725637459100692.\n",
      "[I 2024-04-11 14:51:14,185] Trial 98 finished with value: 0.9530782510788584 and parameters: {'lambda': 1.2519041008085306e-07, 'alpha': 0.002695892258900978, 'subsample': 0.7337267032759218, 'colsample_bytree': 0.7819901085308949, 'max_depth': 9, 'min_child_weight': 8, 'eta': 4.419060036342865e-06, 'gamma': 6.730687663179066e-05, 'grow_policy': 'lossguide'}. Best is trial 34 with value: 0.9725637459100692.\n",
      "[I 2024-04-11 14:59:48,792] Trial 99 finished with value: 0.9209349530187819 and parameters: {'lambda': 5.065532422617906e-07, 'alpha': 0.013166795567054414, 'subsample': 0.8743102628729748, 'colsample_bytree': 0.7465582839390538, 'max_depth': 9, 'min_child_weight': 7, 'eta': 2.2117074689015805e-06, 'gamma': 3.489384419251819e-05, 'grow_policy': 'lossguide'}. Best is trial 34 with value: 0.9725637459100692.\n"
     ]
    },
    {
     "data": {
      "text/plain": [
       "['/kaggle/working/study_xgb.pkl']"
      ]
     },
     "metadata": {},
     "output_type": "display_data"
    }
   ],
   "source": [
    "study = optuna.create_study(pruner=optuna.pruners.MedianPruner(n_warmup_steps=5), direction='maximize')\n",
    "study.optimize(objective, n_trials=100)\n",
    "joblib.dump(study, \"/kaggle/working/study_xgb.pkl\") #save to file"
   ]
  },
  {
   "cell_type": "code",
   "execution_count": null,
   "id": "34a29181",
   "metadata": {},
   "outputs": [
    {
     "data": {
      "text/plain": [
       "{'lambda': 0.0010041351651543825,\n",
       " 'alpha': 0.005709987636930291,\n",
       " 'subsample': 0.9794808845466684,\n",
       " 'colsample_bytree': 0.771828220298,\n",
       " 'max_depth': 7,\n",
       " 'min_child_weight': 3,\n",
       " 'eta': 0.002806057913561531,\n",
       " 'gamma': 9.457239856021425e-07,\n",
       " 'grow_policy': 'depthwise'}"
      ]
     },
     "metadata": {},
     "output_type": "display_data"
    }
   ],
   "source": [
    "study.best_params"
   ]
  },
  {
   "cell_type": "code",
   "execution_count": 36,
   "id": "40420246",
   "metadata": {},
   "outputs": [],
   "source": [
    "params = {\"verbosity\": 0,\n",
    "\"objective\": \"multi:softmax\",\n",
    "'booster': 'gbtree',\n",
    "'lambda': 0.0010041351651543825,\n",
    " 'alpha': 0.005709987636930291,\n",
    " 'subsample': 0.9794808845466684,\n",
    " 'colsample_bytree': 0.771828220298,\n",
    " 'max_depth': 7,\n",
    " 'min_child_weight': 3,\n",
    " 'eta': 0.002806057913561531,\n",
    " 'gamma': 9.457239856021425e-07,\n",
    " 'grow_policy': 'depthwise'}"
   ]
  },
  {
   "cell_type": "code",
   "execution_count": 37,
   "id": "d3848dda",
   "metadata": {},
   "outputs": [],
   "source": [
    "xgb_model = xgb.XGBClassifier(**params, n_jobs=-1)"
   ]
  },
  {
   "cell_type": "code",
   "execution_count": 140,
   "id": "1d91e24b",
   "metadata": {},
   "outputs": [
    {
     "data": {
      "text/plain": [
       "array([0.99730616, 0.91841487, 0.95642461, 0.99172628, 0.97445581])"
      ]
     },
     "execution_count": 140,
     "metadata": {},
     "output_type": "execute_result"
    }
   ],
   "source": [
    "cross_val_score(xgb_model, X_pca_train, y_pca_train, scoring='accuracy', cv=gcv, groups=groups_pca_train, n_jobs=-1)"
   ]
  },
  {
   "cell_type": "code",
   "execution_count": 141,
   "id": "e049ec1f",
   "metadata": {},
   "outputs": [
    {
     "data": {
      "text/plain": [
       "0.9676655460000001"
      ]
     },
     "execution_count": 141,
     "metadata": {},
     "output_type": "execute_result"
    }
   ],
   "source": [
    "np.mean([0.99730616, 0.91841487, 0.95642461, 0.99172628, 0.97445581])"
   ]
  },
  {
   "cell_type": "code",
   "execution_count": 38,
   "id": "443ae857",
   "metadata": {},
   "outputs": [
    {
     "data": {
      "text/html": [
       "<style>#sk-container-id-2 {color: black;}#sk-container-id-2 pre{padding: 0;}#sk-container-id-2 div.sk-toggleable {background-color: white;}#sk-container-id-2 label.sk-toggleable__label {cursor: pointer;display: block;width: 100%;margin-bottom: 0;padding: 0.3em;box-sizing: border-box;text-align: center;}#sk-container-id-2 label.sk-toggleable__label-arrow:before {content: \"▸\";float: left;margin-right: 0.25em;color: #696969;}#sk-container-id-2 label.sk-toggleable__label-arrow:hover:before {color: black;}#sk-container-id-2 div.sk-estimator:hover label.sk-toggleable__label-arrow:before {color: black;}#sk-container-id-2 div.sk-toggleable__content {max-height: 0;max-width: 0;overflow: hidden;text-align: left;background-color: #f0f8ff;}#sk-container-id-2 div.sk-toggleable__content pre {margin: 0.2em;color: black;border-radius: 0.25em;background-color: #f0f8ff;}#sk-container-id-2 input.sk-toggleable__control:checked~div.sk-toggleable__content {max-height: 200px;max-width: 100%;overflow: auto;}#sk-container-id-2 input.sk-toggleable__control:checked~label.sk-toggleable__label-arrow:before {content: \"▾\";}#sk-container-id-2 div.sk-estimator input.sk-toggleable__control:checked~label.sk-toggleable__label {background-color: #d4ebff;}#sk-container-id-2 div.sk-label input.sk-toggleable__control:checked~label.sk-toggleable__label {background-color: #d4ebff;}#sk-container-id-2 input.sk-hidden--visually {border: 0;clip: rect(1px 1px 1px 1px);clip: rect(1px, 1px, 1px, 1px);height: 1px;margin: -1px;overflow: hidden;padding: 0;position: absolute;width: 1px;}#sk-container-id-2 div.sk-estimator {font-family: monospace;background-color: #f0f8ff;border: 1px dotted black;border-radius: 0.25em;box-sizing: border-box;margin-bottom: 0.5em;}#sk-container-id-2 div.sk-estimator:hover {background-color: #d4ebff;}#sk-container-id-2 div.sk-parallel-item::after {content: \"\";width: 100%;border-bottom: 1px solid gray;flex-grow: 1;}#sk-container-id-2 div.sk-label:hover label.sk-toggleable__label {background-color: #d4ebff;}#sk-container-id-2 div.sk-serial::before {content: \"\";position: absolute;border-left: 1px solid gray;box-sizing: border-box;top: 0;bottom: 0;left: 50%;z-index: 0;}#sk-container-id-2 div.sk-serial {display: flex;flex-direction: column;align-items: center;background-color: white;padding-right: 0.2em;padding-left: 0.2em;position: relative;}#sk-container-id-2 div.sk-item {position: relative;z-index: 1;}#sk-container-id-2 div.sk-parallel {display: flex;align-items: stretch;justify-content: center;background-color: white;position: relative;}#sk-container-id-2 div.sk-item::before, #sk-container-id-2 div.sk-parallel-item::before {content: \"\";position: absolute;border-left: 1px solid gray;box-sizing: border-box;top: 0;bottom: 0;left: 50%;z-index: -1;}#sk-container-id-2 div.sk-parallel-item {display: flex;flex-direction: column;z-index: 1;position: relative;background-color: white;}#sk-container-id-2 div.sk-parallel-item:first-child::after {align-self: flex-end;width: 50%;}#sk-container-id-2 div.sk-parallel-item:last-child::after {align-self: flex-start;width: 50%;}#sk-container-id-2 div.sk-parallel-item:only-child::after {width: 0;}#sk-container-id-2 div.sk-dashed-wrapped {border: 1px dashed gray;margin: 0 0.4em 0.5em 0.4em;box-sizing: border-box;padding-bottom: 0.4em;background-color: white;}#sk-container-id-2 div.sk-label label {font-family: monospace;font-weight: bold;display: inline-block;line-height: 1.2em;}#sk-container-id-2 div.sk-label-container {text-align: center;}#sk-container-id-2 div.sk-container {/* jupyter's `normalize.less` sets `[hidden] { display: none; }` but bootstrap.min.css set `[hidden] { display: none !important; }` so we also need the `!important` here to be able to override the default hidden behavior on the sphinx rendered scikit-learn.org. See: https://github.com/scikit-learn/scikit-learn/issues/21755 */display: inline-block !important;position: relative;}#sk-container-id-2 div.sk-text-repr-fallback {display: none;}</style><div id=\"sk-container-id-2\" class=\"sk-top-container\"><div class=\"sk-text-repr-fallback\"><pre>XGBClassifier(alpha=0.005709987636930291, base_score=None, booster=&#x27;gbtree&#x27;,\n",
       "              callbacks=None, colsample_bylevel=None, colsample_bynode=None,\n",
       "              colsample_bytree=0.771828220298, device=None,\n",
       "              early_stopping_rounds=None, enable_categorical=False,\n",
       "              eta=0.002806057913561531, eval_metric=None, feature_types=None,\n",
       "              gamma=9.457239856021425e-07, grow_policy=&#x27;depthwise&#x27;,\n",
       "              importance_type=None, interaction_constraints=None,\n",
       "              lambda=0.0010041351651543825, learning_rate=None, max_bin=None,\n",
       "              max_cat_threshold=None, max_cat_to_onehot=None,\n",
       "              max_delta_step=None, max_depth=7, max_leaves=None,\n",
       "              min_child_weight=3, missing=nan, monotone_constraints=None,\n",
       "              multi_strategy=None, n_estimators=None, ...)</pre><b>In a Jupyter environment, please rerun this cell to show the HTML representation or trust the notebook. <br />On GitHub, the HTML representation is unable to render, please try loading this page with nbviewer.org.</b></div><div class=\"sk-container\" hidden><div class=\"sk-item\"><div class=\"sk-estimator sk-toggleable\"><input class=\"sk-toggleable__control sk-hidden--visually\" id=\"sk-estimator-id-2\" type=\"checkbox\" checked><label for=\"sk-estimator-id-2\" class=\"sk-toggleable__label sk-toggleable__label-arrow\">XGBClassifier</label><div class=\"sk-toggleable__content\"><pre>XGBClassifier(alpha=0.005709987636930291, base_score=None, booster=&#x27;gbtree&#x27;,\n",
       "              callbacks=None, colsample_bylevel=None, colsample_bynode=None,\n",
       "              colsample_bytree=0.771828220298, device=None,\n",
       "              early_stopping_rounds=None, enable_categorical=False,\n",
       "              eta=0.002806057913561531, eval_metric=None, feature_types=None,\n",
       "              gamma=9.457239856021425e-07, grow_policy=&#x27;depthwise&#x27;,\n",
       "              importance_type=None, interaction_constraints=None,\n",
       "              lambda=0.0010041351651543825, learning_rate=None, max_bin=None,\n",
       "              max_cat_threshold=None, max_cat_to_onehot=None,\n",
       "              max_delta_step=None, max_depth=7, max_leaves=None,\n",
       "              min_child_weight=3, missing=nan, monotone_constraints=None,\n",
       "              multi_strategy=None, n_estimators=None, ...)</pre></div></div></div></div></div>"
      ],
      "text/plain": [
       "XGBClassifier(alpha=0.005709987636930291, base_score=None, booster='gbtree',\n",
       "              callbacks=None, colsample_bylevel=None, colsample_bynode=None,\n",
       "              colsample_bytree=0.771828220298, device=None,\n",
       "              early_stopping_rounds=None, enable_categorical=False,\n",
       "              eta=0.002806057913561531, eval_metric=None, feature_types=None,\n",
       "              gamma=9.457239856021425e-07, grow_policy='depthwise',\n",
       "              importance_type=None, interaction_constraints=None,\n",
       "              lambda=0.0010041351651543825, learning_rate=None, max_bin=None,\n",
       "              max_cat_threshold=None, max_cat_to_onehot=None,\n",
       "              max_delta_step=None, max_depth=7, max_leaves=None,\n",
       "              min_child_weight=3, missing=nan, monotone_constraints=None,\n",
       "              multi_strategy=None, n_estimators=None, ...)"
      ]
     },
     "execution_count": 38,
     "metadata": {},
     "output_type": "execute_result"
    }
   ],
   "source": [
    "xgb_model.fit(X_train, y_train)"
   ]
  },
  {
   "cell_type": "code",
   "execution_count": 39,
   "id": "7b34a448",
   "metadata": {},
   "outputs": [],
   "source": [
    "y_pred_xgb = xgb_model.predict(X_test)"
   ]
  },
  {
   "cell_type": "code",
   "execution_count": 40,
   "id": "25b08c30",
   "metadata": {},
   "outputs": [
    {
     "data": {
      "text/plain": [
       "0.9902922323582737"
      ]
     },
     "execution_count": 40,
     "metadata": {},
     "output_type": "execute_result"
    }
   ],
   "source": [
    "accuracy_score(y_test, y_pred_xgb)"
   ]
  },
  {
   "cell_type": "code",
   "execution_count": 41,
   "id": "66a14918",
   "metadata": {},
   "outputs": [
    {
     "data": {
      "text/plain": [
       "<sklearn.metrics._plot.confusion_matrix.ConfusionMatrixDisplay at 0x1cac1f88c50>"
      ]
     },
     "execution_count": 41,
     "metadata": {},
     "output_type": "execute_result"
    },
    {
     "data": {
      "image/png": "[encoded data removed]",
      "text/plain": [
       "<Figure size 640x480 with 2 Axes>"
      ]
     },
     "metadata": {},
     "output_type": "display_data"
    }
   ],
   "source": [
    "ConfusionMatrixDisplay(confusion_matrix(y_test, y_pred_xgb)).plot()"
   ]
  },
  {
   "cell_type": "markdown",
   "id": "ad7e81e1",
   "metadata": {},
   "source": [
    "It took some time for optimization, however we got a model with 99% accuracy which is not bad."
   ]
  },
  {
   "cell_type": "markdown",
   "id": "6f08b4c2",
   "metadata": {},
   "source": [
    "# neural network"
   ]
  },
  {
   "cell_type": "markdown",
   "id": "ecb8edc6",
   "metadata": {},
   "source": [
    "We can try to use autoencoder for classification of these kind of data"
   ]
  },
  {
   "cell_type": "code",
   "execution_count": 50,
   "id": "81e61d26",
   "metadata": {},
   "outputs": [],
   "source": [
    "X_train, X_val, y_train, y_val = train_test_split(X_train, y_train, stratify=groups_train) # We'll require validation dataet here."
   ]
  },
  {
   "cell_type": "code",
   "execution_count": 51,
   "id": "ffbb59d9",
   "metadata": {},
   "outputs": [
    {
     "name": "stdout",
     "output_type": "stream",
     "text": [
      "Using cuda device\n"
     ]
    }
   ],
   "source": [
    "device = (\n",
    "    \"cuda\"\n",
    "    if torch.cuda.is_available()\n",
    "    else \"mps\"\n",
    "    if torch.backends.mps.is_available()\n",
    "    else \"cpu\"\n",
    ")\n",
    "print(f\"Using {device} device\")"
   ]
  },
  {
   "cell_type": "code",
   "execution_count": 52,
   "id": "5e894c14",
   "metadata": {},
   "outputs": [],
   "source": [
    "class CustomTableDataset(Dataset):\n",
    "    def __init__(self, table, annotation):\n",
    "        self.table = table\n",
    "        self.y = annotation\n",
    "    def __len__(self):\n",
    "        return len(self.y)\n",
    "\n",
    "    def __getitem__(self, idx):\n",
    "        values = torch.tensor(self.table[idx]).to(device)\n",
    "        y = torch.tensor(self.y[idx]) # y may stay on cpu\n",
    "        return values, y"
   ]
  },
  {
   "cell_type": "code",
   "execution_count": 53,
   "id": "58fbc7e9",
   "metadata": {},
   "outputs": [],
   "source": [
    "train_dataset = CustomTableDataset(X_train, y_train.values)\n",
    "valid_dataset = CustomTableDataset(X_val, y_val.values)\n",
    "test_dataset = CustomTableDataset(X_test, y_test.values)"
   ]
  },
  {
   "cell_type": "code",
   "execution_count": 54,
   "id": "c65b3b8d",
   "metadata": {},
   "outputs": [],
   "source": [
    "train_dataloader = DataLoader(train_dataset, batch_size=1000, shuffle=True)\n",
    "valid_dataloader = DataLoader(valid_dataset, batch_size=1000, shuffle=True)\n",
    "test_dataloader = DataLoader(test_dataset, batch_size=1000, shuffle=True)"
   ]
  },
  {
   "cell_type": "markdown",
   "id": "a504d0cc",
   "metadata": {},
   "source": [
    "training functions"
   ]
  },
  {
   "cell_type": "code",
   "execution_count": 24,
   "id": "c8240206",
   "metadata": {},
   "outputs": [],
   "source": [
    "def train_autoencoder(dataloader, model, loss_fn, optimizer):\n",
    "    model.train()\n",
    "    train_loss = 0\n",
    "\n",
    "    for batch, (X, y) in enumerate(dataloader):\n",
    "        output = model(X)\n",
    "        loss = loss_fn(output, X)\n",
    "        train_loss += loss.item()\n",
    "\n",
    "        model.zero_grad()\n",
    "        loss.backward()\n",
    "        optimizer.step()\n",
    "\n",
    "        if batch % 10 == 0:\n",
    "            print(batch, loss.item())\n",
    "\n",
    "    train_loss = train_loss / len(dataloader)\n",
    "    return train_loss"
   ]
  },
  {
   "cell_type": "code",
   "execution_count": 25,
   "id": "84cd52d9",
   "metadata": {},
   "outputs": [],
   "source": [
    "def train_classifier(dataloader, model, loss_fn, optimizer):\n",
    "    model.train()\n",
    "    train_loss = []\n",
    "    train_acc = []\n",
    "\n",
    "    for batch, (X, y) in enumerate(dataloader):\n",
    "        y = y.type(torch.LongTensor)\n",
    "        pred = model(X)\n",
    "        loss = loss_fn(pred, y.to(device))\n",
    "        train_loss += [loss.item()]\n",
    "        acc = accuracy_score(y, pred.argmax(1).cpu())\n",
    "        train_acc += [acc]\n",
    "\n",
    "        model.zero_grad()\n",
    "        loss.backward()\n",
    "        optimizer.step()\n",
    "\n",
    "        if batch % 10 == 0:\n",
    "            print(batch, loss.item(), acc)\n",
    "\n",
    "    return np.mean(train_loss), np.mean(train_acc)"
   ]
  },
  {
   "cell_type": "code",
   "execution_count": 48,
   "id": "99b02025",
   "metadata": {},
   "outputs": [],
   "source": [
    "def test_classifier(dataloader, model, loss_fn):\n",
    "    model.eval()\n",
    "    accuracy = []\n",
    "\n",
    "    for X, y in dataloader:\n",
    "        pred = model(X).argmax(1).cpu()\n",
    "        y = y.numpy()\n",
    "        acc = accuracy_score(y, pred)\n",
    "        accuracy += [acc]\n",
    "    return np.mean(accuracy)"
   ]
  },
  {
   "cell_type": "markdown",
   "id": "09ee2076",
   "metadata": {},
   "source": [
    "## create and train a model"
   ]
  },
  {
   "cell_type": "code",
   "execution_count": 22,
   "id": "0b6a0c67",
   "metadata": {},
   "outputs": [],
   "source": [
    "class Autoencoder(nn.Module):\n",
    "    def __init__(self):\n",
    "        super(Autoencoder, self).__init__()\n",
    "        self.encoder = nn.Sequential(\n",
    "            nn.Linear(254, 128),\n",
    "            nn.ReLU(),\n",
    "            nn.Linear(128, 64),\n",
    "            nn.ReLU(),\n",
    "            nn.Linear(64, 12)\n",
    "        )\n",
    "        self.decoder = nn.Sequential(\n",
    "            nn.Linear(12, 64),\n",
    "            nn.ReLU(),\n",
    "            nn.Linear(64, 128),\n",
    "            nn.ReLU(),\n",
    "            nn.Linear(128, 254),\n",
    "            nn.ReLU() # our data starts from 0\n",
    "        )\n",
    "\n",
    "    def forward(self, x):\n",
    "        x = self.encoder(x)\n",
    "        x = self.decoder(x)\n",
    "        return x"
   ]
  },
  {
   "cell_type": "code",
   "execution_count": 37,
   "id": "aa9494d5",
   "metadata": {},
   "outputs": [
    {
     "data": {
      "text/plain": [
       "Autoencoder(\n",
       "  (encoder): Sequential(\n",
       "    (0): Linear(in_features=254, out_features=128, bias=True)\n",
       "    (1): ReLU()\n",
       "    (2): Linear(in_features=128, out_features=64, bias=True)\n",
       "    (3): ReLU()\n",
       "    (4): Linear(in_features=64, out_features=12, bias=True)\n",
       "  )\n",
       "  (decoder): Sequential(\n",
       "    (0): Linear(in_features=12, out_features=64, bias=True)\n",
       "    (1): ReLU()\n",
       "    (2): Linear(in_features=64, out_features=128, bias=True)\n",
       "    (3): ReLU()\n",
       "    (4): Linear(in_features=128, out_features=254, bias=True)\n",
       "    (5): ReLU()\n",
       "  )\n",
       ")"
      ]
     },
     "execution_count": 37,
     "metadata": {},
     "output_type": "execute_result"
    }
   ],
   "source": [
    "nn_model = Autoencoder().to(device)\n",
    "nn_model"
   ]
  },
  {
   "cell_type": "code",
   "execution_count": 38,
   "id": "82fc3073",
   "metadata": {},
   "outputs": [],
   "source": [
    "loss_fn = nn.MSELoss() # we'll use mean squared error for autoencoder training\n",
    "optimizer = torch.optim.Adam(nn_model.parameters(), lr=1e-2)\n",
    "epochs = 3"
   ]
  },
  {
   "cell_type": "code",
   "execution_count": 39,
   "id": "c448492e",
   "metadata": {},
   "outputs": [
    {
     "name": "stdout",
     "output_type": "stream",
     "text": [
      "0 15.171126365661621\n",
      "10 13.746515274047852\n",
      "20 11.39967155456543\n",
      "30 10.286766052246094\n",
      "40 8.421171188354492\n",
      "50 7.354395866394043\n",
      "60 6.514671802520752\n",
      "70 6.131265640258789\n",
      "80 5.661256313323975\n",
      "90 4.749446868896484\n",
      "100 4.640389919281006\n",
      "110 4.442727565765381\n",
      "120 4.727511405944824\n",
      "130 4.147714138031006\n",
      "140 3.9529242515563965\n",
      "150 4.236810684204102\n",
      "0 4.096574783325195\n",
      "10 3.7040088176727295\n",
      "20 3.705909490585327\n",
      "30 3.651221990585327\n",
      "40 3.7215237617492676\n",
      "50 3.7378532886505127\n",
      "60 3.3252501487731934\n",
      "70 3.476243734359741\n",
      "80 3.474565029144287\n",
      "90 3.566697359085083\n",
      "100 3.3909449577331543\n",
      "110 3.6624884605407715\n",
      "120 3.276492118835449\n",
      "130 3.429138422012329\n",
      "140 3.4849538803100586\n",
      "150 3.233903408050537\n",
      "0 3.0780985355377197\n",
      "10 3.0784223079681396\n",
      "20 3.5365655422210693\n",
      "30 3.2488441467285156\n",
      "40 3.2928149700164795\n",
      "50 3.2129135131835938\n",
      "60 3.314234733581543\n",
      "70 3.1468350887298584\n",
      "80 3.2553088665008545\n",
      "90 3.1258907318115234\n",
      "100 2.8721959590911865\n",
      "110 3.009446859359741\n",
      "120 2.952857494354248\n",
      "130 3.3236141204833984\n",
      "140 2.7622456550598145\n",
      "150 3.0728085041046143\n"
     ]
    }
   ],
   "source": [
    "t_loss = []\n",
    "for e in range(epochs):\n",
    "    t_loss += [train_autoencoder(train_dataloader, nn_model, loss_fn, optimizer)]"
   ]
  },
  {
   "cell_type": "code",
   "execution_count": 41,
   "id": "a1c39c72",
   "metadata": {},
   "outputs": [
    {
     "name": "stdout",
     "output_type": "stream",
     "text": [
      "0 3.089932918548584\n",
      "10 2.8168439865112305\n",
      "20 2.7951807975769043\n",
      "30 3.0385265350341797\n",
      "40 2.8604512214660645\n",
      "50 2.7528977394104004\n",
      "60 2.787076234817505\n",
      "70 2.7555596828460693\n",
      "80 2.8782589435577393\n",
      "90 2.798860788345337\n",
      "100 2.830695867538452\n",
      "110 2.628309726715088\n",
      "120 2.81239914894104\n",
      "130 2.989506959915161\n",
      "140 2.9272799491882324\n",
      "150 2.7914533615112305\n",
      "0 2.7515437602996826\n",
      "10 2.714277505874634\n",
      "20 2.678056001663208\n",
      "30 2.9733169078826904\n",
      "40 2.8216757774353027\n",
      "50 2.8318395614624023\n",
      "60 2.8823254108428955\n",
      "70 2.706528663635254\n",
      "80 2.681565523147583\n",
      "90 2.9481303691864014\n",
      "100 3.029783248901367\n",
      "110 2.7222156524658203\n",
      "120 2.793126106262207\n",
      "130 2.6266822814941406\n",
      "140 2.7214767932891846\n",
      "150 2.6945319175720215\n",
      "0 2.7218518257141113\n",
      "10 2.880566120147705\n",
      "20 2.808521032333374\n",
      "30 2.824584722518921\n",
      "40 2.610515832901001\n",
      "50 2.8434643745422363\n",
      "60 2.6962738037109375\n",
      "70 2.6305670738220215\n",
      "80 2.7769391536712646\n",
      "90 2.7875945568084717\n",
      "100 2.763869524002075\n",
      "110 2.5861716270446777\n",
      "120 2.934211492538452\n",
      "130 2.710052728652954\n",
      "140 2.8672397136688232\n",
      "150 2.665365219116211\n"
     ]
    }
   ],
   "source": [
    "for param_group in optimizer.param_groups:\n",
    "    param_group['lr'] = 1e-3\n",
    "\n",
    "for e in range(epochs):\n",
    "    t_loss += [train_autoencoder(train_dataloader, nn_model, loss_fn, optimizer)]"
   ]
  },
  {
   "cell_type": "code",
   "execution_count": 43,
   "id": "f16c5b8e",
   "metadata": {},
   "outputs": [
    {
     "name": "stdout",
     "output_type": "stream",
     "text": [
      "0 3.020028591156006\n",
      "10 2.8248727321624756\n",
      "20 2.5771234035491943\n",
      "30 2.766871929168701\n",
      "40 2.756601572036743\n",
      "50 2.65334153175354\n",
      "60 2.7224292755126953\n",
      "70 2.727898597717285\n",
      "80 3.120509624481201\n",
      "90 2.713948965072632\n",
      "100 2.6633124351501465\n",
      "110 2.7144994735717773\n",
      "120 2.7480859756469727\n",
      "130 2.745591163635254\n",
      "140 2.7495949268341064\n",
      "150 2.7858941555023193\n",
      "0 2.655287742614746\n",
      "10 2.718033790588379\n",
      "20 2.7686102390289307\n",
      "30 2.6808066368103027\n",
      "40 2.925421714782715\n",
      "50 2.534687042236328\n",
      "60 2.7861127853393555\n",
      "70 2.9308021068573\n",
      "80 2.684560537338257\n",
      "90 2.9541969299316406\n",
      "100 2.691079616546631\n",
      "110 2.668520212173462\n",
      "120 2.65432071685791\n",
      "130 2.644620656967163\n",
      "140 2.8967342376708984\n",
      "150 2.725456714630127\n",
      "0 2.778049945831299\n",
      "10 2.9317657947540283\n",
      "20 2.967966079711914\n",
      "30 2.7600624561309814\n",
      "40 2.7017457485198975\n",
      "50 2.666041851043701\n",
      "60 2.734013319015503\n",
      "70 2.9599220752716064\n",
      "80 2.673997402191162\n",
      "90 2.7870941162109375\n",
      "100 2.5056161880493164\n",
      "110 2.7611520290374756\n",
      "120 2.715592861175537\n",
      "130 2.5687241554260254\n",
      "140 2.526630163192749\n",
      "150 2.9709010124206543\n"
     ]
    }
   ],
   "source": [
    "for param_group in optimizer.param_groups:\n",
    "    param_group['lr'] = 1e-4\n",
    "\n",
    "for e in range(epochs):\n",
    "    t_loss += [train_autoencoder(train_dataloader, nn_model, loss_fn, optimizer)]"
   ]
  },
  {
   "cell_type": "code",
   "execution_count": 45,
   "id": "ec266bb1",
   "metadata": {},
   "outputs": [
    {
     "name": "stdout",
     "output_type": "stream",
     "text": [
      "0 2.7174625396728516\n",
      "10 2.7877724170684814\n",
      "20 2.6872663497924805\n",
      "30 2.7739603519439697\n",
      "40 2.8221023082733154\n",
      "50 2.627924680709839\n",
      "60 2.9587337970733643\n",
      "70 2.731732130050659\n",
      "80 2.648383855819702\n",
      "90 2.852050304412842\n",
      "100 2.6737849712371826\n",
      "110 2.872148036956787\n",
      "120 2.8886101245880127\n",
      "130 2.6272923946380615\n",
      "140 2.7518715858459473\n",
      "150 2.6579084396362305\n",
      "0 2.7191214561462402\n",
      "10 2.923862934112549\n",
      "20 2.849217176437378\n",
      "30 2.8253071308135986\n",
      "40 2.699946880340576\n",
      "50 2.5973196029663086\n",
      "60 2.6508214473724365\n",
      "70 2.7901723384857178\n",
      "80 2.6540865898132324\n",
      "90 2.7488980293273926\n",
      "100 2.7725558280944824\n",
      "110 2.7407279014587402\n",
      "120 2.7477338314056396\n",
      "130 2.8389124870300293\n",
      "140 2.563704252243042\n",
      "150 2.722008228302002\n",
      "0 2.748582124710083\n",
      "10 2.595238447189331\n",
      "20 2.678422451019287\n",
      "30 2.7243385314941406\n",
      "40 2.61639666557312\n",
      "50 2.5436341762542725\n",
      "60 2.79594349861145\n",
      "70 2.749183416366577\n",
      "80 2.618814468383789\n",
      "90 2.5469655990600586\n",
      "100 2.905900001525879\n",
      "110 2.7352466583251953\n",
      "120 2.748493194580078\n",
      "130 2.8308608531951904\n",
      "140 2.548469066619873\n",
      "150 2.626390218734741\n"
     ]
    }
   ],
   "source": [
    "for param_group in optimizer.param_groups:\n",
    "    param_group['lr'] = 5e-4\n",
    "\n",
    "for e in range(epochs):\n",
    "    t_loss += [train_autoencoder(train_dataloader, nn_model, loss_fn, optimizer)]"
   ]
  },
  {
   "cell_type": "code",
   "execution_count": 48,
   "id": "506190b7",
   "metadata": {},
   "outputs": [
    {
     "name": "stdout",
     "output_type": "stream",
     "text": [
      "0 2.722372531890869\n",
      "10 2.678788185119629\n",
      "20 2.800957679748535\n",
      "30 2.7505784034729004\n",
      "40 2.8107857704162598\n",
      "50 2.52997088432312\n",
      "60 2.6871817111968994\n",
      "70 2.4741594791412354\n",
      "80 2.696660041809082\n",
      "90 2.6233577728271484\n",
      "100 2.684952974319458\n",
      "110 2.738377094268799\n",
      "120 2.705031156539917\n",
      "130 2.7146360874176025\n",
      "140 2.8251757621765137\n",
      "150 2.632354259490967\n",
      "0 2.502290725708008\n",
      "10 2.7065014839172363\n",
      "20 2.5665457248687744\n",
      "30 2.8235676288604736\n",
      "40 2.677058458328247\n",
      "50 2.8266661167144775\n",
      "60 2.687361717224121\n",
      "70 2.796739101409912\n",
      "80 2.535848379135132\n",
      "90 2.7376186847686768\n",
      "100 2.704481363296509\n",
      "110 2.714672327041626\n",
      "120 2.6233608722686768\n",
      "130 2.6026341915130615\n",
      "140 2.5665225982666016\n",
      "150 2.6593403816223145\n",
      "0 2.6054444313049316\n",
      "10 2.6987557411193848\n",
      "20 2.8142290115356445\n",
      "30 2.846712589263916\n",
      "40 2.614819049835205\n",
      "50 2.5854759216308594\n",
      "60 2.46889328956604\n",
      "70 2.7768518924713135\n",
      "80 2.49298357963562\n",
      "90 2.8529956340789795\n",
      "100 2.6008756160736084\n",
      "110 2.5410330295562744\n",
      "120 2.7931859493255615\n",
      "130 2.756876230239868\n",
      "140 2.750821828842163\n",
      "150 2.562070608139038\n"
     ]
    }
   ],
   "source": [
    "for param_group in optimizer.param_groups:\n",
    "    param_group['lr'] = 5e-5\n",
    "\n",
    "for e in range(epochs):\n",
    "    t_loss += [train_autoencoder(train_dataloader, nn_model, loss_fn, optimizer)]"
   ]
  },
  {
   "cell_type": "code",
   "execution_count": 50,
   "id": "19d542e4",
   "metadata": {},
   "outputs": [
    {
     "name": "stdout",
     "output_type": "stream",
     "text": [
      "0 2.6173465251922607\n",
      "10 2.794980764389038\n",
      "20 2.6795694828033447\n",
      "30 2.7887322902679443\n",
      "40 2.929217576980591\n",
      "50 2.7103168964385986\n",
      "60 2.526355266571045\n",
      "70 2.6891865730285645\n",
      "80 2.5894975662231445\n",
      "90 2.8001644611358643\n",
      "100 2.6127116680145264\n",
      "110 2.7375118732452393\n",
      "120 2.8576018810272217\n",
      "130 2.698227882385254\n",
      "140 2.497969150543213\n",
      "150 2.5542056560516357\n",
      "0 2.7321786880493164\n",
      "10 2.7543060779571533\n",
      "20 2.6381943225860596\n",
      "30 2.8626999855041504\n",
      "40 2.5009379386901855\n",
      "50 2.4799673557281494\n",
      "60 2.5669617652893066\n",
      "70 2.604706048965454\n",
      "80 2.4944686889648438\n",
      "90 2.489272117614746\n",
      "100 2.687159538269043\n",
      "110 2.6808242797851562\n",
      "120 2.7101330757141113\n",
      "130 2.7489395141601562\n",
      "140 2.686940908432007\n",
      "150 2.7365102767944336\n",
      "0 2.7606186866760254\n",
      "10 2.9515256881713867\n",
      "20 2.662081003189087\n",
      "30 2.694887399673462\n",
      "40 2.5197441577911377\n",
      "50 2.6199142932891846\n",
      "60 2.6093480587005615\n",
      "70 2.734744071960449\n",
      "80 2.8397202491760254\n",
      "90 2.5032737255096436\n",
      "100 2.7996280193328857\n",
      "110 2.457174777984619\n",
      "120 2.5782201290130615\n",
      "130 2.6474506855010986\n",
      "140 2.6517512798309326\n",
      "150 2.630950689315796\n"
     ]
    }
   ],
   "source": [
    "for param_group in optimizer.param_groups:\n",
    "    param_group['lr'] = 1e-4\n",
    "\n",
    "for e in range(epochs):\n",
    "    t_loss += [train_autoencoder(train_dataloader, nn_model, loss_fn, optimizer)]"
   ]
  },
  {
   "cell_type": "code",
   "execution_count": 53,
   "id": "81d0143a",
   "metadata": {},
   "outputs": [
    {
     "name": "stdout",
     "output_type": "stream",
     "text": [
      "0 2.5937445163726807\n",
      "10 2.5915660858154297\n",
      "20 2.6653025150299072\n",
      "30 2.671778678894043\n",
      "40 2.5848093032836914\n",
      "50 2.708174228668213\n",
      "60 2.4979465007781982\n",
      "70 2.6849822998046875\n",
      "80 2.721163749694824\n",
      "90 2.4652252197265625\n",
      "100 2.7223119735717773\n",
      "110 2.5376546382904053\n",
      "120 2.5926175117492676\n",
      "130 2.9822309017181396\n",
      "140 2.706714153289795\n",
      "150 2.6391172409057617\n",
      "0 2.587981700897217\n",
      "10 2.622542142868042\n",
      "20 2.6843764781951904\n",
      "30 2.6530277729034424\n",
      "40 2.59976863861084\n",
      "50 2.7698233127593994\n",
      "60 2.66630220413208\n",
      "70 2.605436086654663\n",
      "80 2.7234439849853516\n",
      "90 2.7446086406707764\n",
      "100 2.729996681213379\n",
      "110 2.6147494316101074\n",
      "120 2.7835073471069336\n",
      "130 2.6200740337371826\n",
      "140 2.5931057929992676\n",
      "150 2.3262312412261963\n",
      "0 2.588437080383301\n",
      "10 2.53873872756958\n",
      "20 2.842360258102417\n",
      "30 2.9499597549438477\n",
      "40 2.488339424133301\n",
      "50 2.6760284900665283\n",
      "60 2.6346280574798584\n",
      "70 2.5764267444610596\n",
      "80 2.683255910873413\n",
      "90 2.651975393295288\n",
      "100 2.559973955154419\n",
      "110 2.7333076000213623\n",
      "120 2.7591516971588135\n",
      "130 2.6401658058166504\n",
      "140 2.6896657943725586\n",
      "150 2.6149957180023193\n"
     ]
    }
   ],
   "source": [
    "for param_group in optimizer.param_groups:\n",
    "    param_group['lr'] = 1e-5\n",
    "\n",
    "for e in range(epochs):\n",
    "    t_loss += [train_autoencoder(train_dataloader, nn_model, loss_fn, optimizer)]"
   ]
  },
  {
   "cell_type": "code",
   "execution_count": 54,
   "id": "b5b83d5c",
   "metadata": {},
   "outputs": [
    {
     "data": {
      "text/plain": [
       "[6.970878183087216,\n",
       " 3.5300788170174706,\n",
       " 3.0838816226283208,\n",
       " 2.85492759414866,\n",
       " 2.812496633469304,\n",
       " 2.7783275827576843,\n",
       " 2.7518854578839074,\n",
       " 2.7472062488145466,\n",
       " 2.742788396304167,\n",
       " 2.735475683514076,\n",
       " 2.713746826859969,\n",
       " 2.6942147393769855,\n",
       " 2.67829399018348,\n",
       " 2.675569513176061,\n",
       " 2.6731953575641296,\n",
       " 2.6719216425207595,\n",
       " 2.667403895643693,\n",
       " 2.663006009934824,\n",
       " 2.6600347183927706,\n",
       " 2.6584594989124732,\n",
       " 2.6584478179110755]"
      ]
     },
     "execution_count": 54,
     "metadata": {},
     "output_type": "execute_result"
    }
   ],
   "source": [
    "t_loss"
   ]
  },
  {
   "cell_type": "code",
   "execution_count": 55,
   "id": "8f6cc815",
   "metadata": {},
   "outputs": [],
   "source": [
    "torch.save(nn_model, 'Autoencoder1.pth') # save our model after 21 epochs of training"
   ]
  },
  {
   "cell_type": "code",
   "execution_count": 56,
   "id": "7080398b",
   "metadata": {},
   "outputs": [],
   "source": [
    "# freeze all layers of our autoencoder\n",
    "for param in nn_model.parameters():\n",
    "    param.requires_grad = False"
   ]
  },
  {
   "cell_type": "code",
   "execution_count": 58,
   "id": "4be50797",
   "metadata": {},
   "outputs": [
    {
     "data": {
      "text/plain": [
       "Autoencoder(\n",
       "  (encoder): Sequential(\n",
       "    (0): Linear(in_features=254, out_features=128, bias=True)\n",
       "    (1): ReLU()\n",
       "    (2): Linear(in_features=128, out_features=64, bias=True)\n",
       "    (3): ReLU()\n",
       "    (4): Linear(in_features=64, out_features=12, bias=True)\n",
       "  )\n",
       "  (decoder): Linear(in_features=12, out_features=3, bias=True)\n",
       ")"
      ]
     },
     "execution_count": 58,
     "metadata": {},
     "output_type": "execute_result"
    }
   ],
   "source": [
    "# and change decoder to classifier layer\n",
    "nn_model.decoder = nn.Linear(12, 3) # parameters of the new linear layer won't be frozen\n",
    "nn_model = nn_model.to(device)\n",
    "nn_model"
   ]
  },
  {
   "cell_type": "code",
   "execution_count": 59,
   "id": "1e9e8941",
   "metadata": {},
   "outputs": [],
   "source": [
    "loss_fn = nn.CrossEntropyLoss() # we'll use cross entropy for training of classificator\n",
    "optimizer = torch.optim.Adam(nn_model.parameters(), lr=1e-3)\n",
    "epochs = 3"
   ]
  },
  {
   "cell_type": "code",
   "execution_count": 74,
   "id": "01563b85",
   "metadata": {},
   "outputs": [
    {
     "name": "stdout",
     "output_type": "stream",
     "text": [
      "0 7.431826591491699 0.217\n",
      "10 6.927665710449219 0.214\n",
      "20 5.382558822631836 0.269\n",
      "30 4.6763434410095215 0.31\n",
      "40 4.348635673522949 0.336\n",
      "50 3.2639551162719727 0.444\n",
      "60 3.1455187797546387 0.512\n",
      "70 2.2499804496765137 0.612\n",
      "80 2.1719322204589844 0.687\n",
      "90 1.6794768571853638 0.745\n",
      "100 1.523876428604126 0.752\n",
      "110 1.1398791074752808 0.785\n",
      "120 0.9819265007972717 0.808\n",
      "130 0.7550185322761536 0.818\n",
      "140 0.6319416761398315 0.846\n",
      "150 0.4711192548274994 0.864\n",
      "0 0.416410893201828 0.88\n",
      "10 0.31175076961517334 0.907\n",
      "20 0.24788546562194824 0.926\n",
      "30 0.21062332391738892 0.936\n",
      "40 0.1790073812007904 0.948\n",
      "50 0.16682924330234528 0.961\n",
      "60 0.1729947179555893 0.965\n",
      "70 0.12338382005691528 0.971\n",
      "80 0.11948519945144653 0.974\n",
      "90 0.1263429820537567 0.971\n",
      "100 0.1279999315738678 0.975\n",
      "110 0.12286444753408432 0.974\n",
      "120 0.09840696305036545 0.977\n",
      "130 0.10251916199922562 0.976\n",
      "140 0.10134255886077881 0.983\n",
      "150 0.09975159168243408 0.975\n",
      "0 0.08988264203071594 0.979\n",
      "10 0.08172276616096497 0.979\n",
      "20 0.09049810469150543 0.985\n",
      "30 0.10589445382356644 0.979\n",
      "40 0.0752977803349495 0.986\n",
      "50 0.06589435040950775 0.988\n",
      "60 0.07282213866710663 0.988\n",
      "70 0.06190982460975647 0.991\n",
      "80 0.07224254310131073 0.983\n",
      "90 0.06084514409303665 0.989\n",
      "100 0.06598524004220963 0.989\n",
      "110 0.0975182056427002 0.979\n",
      "120 0.05756189301609993 0.992\n",
      "130 0.05476902052760124 0.994\n",
      "140 0.06162948161363602 0.988\n",
      "150 0.06530021876096725 0.991\n"
     ]
    }
   ],
   "source": [
    "t_loss = []\n",
    "t_acc = []\n",
    "for e in range(epochs):\n",
    "    tup = train_classifier(train_dataloader, nn_model, loss_fn, optimizer)\n",
    "    t_loss += [tup[0]]\n",
    "    t_acc += [tup[1]]"
   ]
  },
  {
   "cell_type": "code",
   "execution_count": 78,
   "id": "00d772bf",
   "metadata": {},
   "outputs": [
    {
     "name": "stdout",
     "output_type": "stream",
     "text": [
      "0 0.06316471099853516 0.991\n",
      "10 0.05775206536054611 0.986\n",
      "20 0.06946565210819244 0.992\n",
      "30 0.07123152911663055 0.99\n",
      "40 0.05672919377684593 0.984\n",
      "50 0.06445679813623428 0.986\n",
      "60 0.06393475830554962 0.982\n",
      "70 0.07593421638011932 0.992\n",
      "80 0.0644933208823204 0.989\n",
      "90 0.05063851550221443 0.992\n",
      "100 0.06395654380321503 0.989\n",
      "110 0.04305043816566467 0.996\n",
      "120 0.059802960604429245 0.989\n",
      "130 0.06142235919833183 0.99\n",
      "140 0.04537230730056763 0.996\n",
      "150 0.06186849623918533 0.991\n",
      "0 0.08048120141029358 0.986\n",
      "10 0.06375036388635635 0.988\n",
      "20 0.060625698417425156 0.989\n",
      "30 0.05294238403439522 0.987\n",
      "40 0.051767900586128235 0.984\n",
      "50 0.05412833020091057 0.993\n",
      "60 0.05577096343040466 0.992\n",
      "70 0.0423576645553112 0.997\n",
      "80 0.06652731448411942 0.99\n",
      "90 0.0497230626642704 0.992\n",
      "100 0.06090440973639488 0.989\n",
      "110 0.052937038242816925 0.99\n",
      "120 0.04645175486803055 0.993\n",
      "130 0.06647900491952896 0.984\n",
      "140 0.07102622836828232 0.985\n",
      "150 0.042485304176807404 0.993\n",
      "0 0.055958300828933716 0.993\n",
      "10 0.05014457181096077 0.993\n",
      "20 0.06429260969161987 0.989\n",
      "30 0.048377372324466705 0.993\n",
      "40 0.06639263778924942 0.988\n",
      "50 0.05819837749004364 0.991\n",
      "60 0.05324949696660042 0.99\n",
      "70 0.05089934542775154 0.991\n",
      "80 0.04920369014143944 0.989\n",
      "90 0.0463365875184536 0.988\n",
      "100 0.055297110229730606 0.991\n",
      "110 0.05312490090727806 0.993\n",
      "120 0.049674298614263535 0.994\n",
      "130 0.05123170092701912 0.987\n",
      "140 0.053489379584789276 0.987\n",
      "150 0.06412962079048157 0.988\n"
     ]
    }
   ],
   "source": [
    "for param_group in optimizer.param_groups:\n",
    "    param_group['lr'] = 1e-4\n",
    "for e in range(epochs):\n",
    "    tup = train_classifier(train_dataloader, nn_model, loss_fn, optimizer)\n",
    "    t_loss += [tup[0]]\n",
    "    t_acc += [tup[1]]"
   ]
  },
  {
   "cell_type": "code",
   "execution_count": 79,
   "id": "ebfd7a8d",
   "metadata": {},
   "outputs": [
    {
     "data": {
      "text/plain": [
       "0.9901821548227827"
      ]
     },
     "execution_count": 79,
     "metadata": {},
     "output_type": "execute_result"
    }
   ],
   "source": [
    "test_classifier(valid_dataloader, nn_model, loss_fn)"
   ]
  },
  {
   "cell_type": "code",
   "execution_count": 82,
   "id": "3337f421",
   "metadata": {},
   "outputs": [],
   "source": [
    "torch.save(nn_model, 'autoencoder_classifier.pth') # save our model after 27 epochs of training"
   ]
  },
  {
   "cell_type": "code",
   "execution_count": null,
   "id": "f7bc1164",
   "metadata": {},
   "outputs": [],
   "source": [
    "for param in nn_model.parameters():\n",
    "    param.requires_grad = True # unfreeze all parameters"
   ]
  },
  {
   "cell_type": "code",
   "execution_count": 83,
   "id": "ffca058f",
   "metadata": {},
   "outputs": [],
   "source": [
    "loss_fn = nn.CrossEntropyLoss() # we'll use cross entropy for training of classificator\n",
    "optimizer = torch.optim.Adam(nn_model.parameters(), lr=1e-4)\n",
    "epochs = 3"
   ]
  },
  {
   "cell_type": "code",
   "execution_count": 84,
   "id": "059af753",
   "metadata": {},
   "outputs": [
    {
     "name": "stdout",
     "output_type": "stream",
     "text": [
      "0 0.06724125891923904 0.992\n",
      "10 0.035652611404657364 0.997\n",
      "20 0.05897485837340355 0.99\n",
      "30 0.041057076305150986 0.991\n",
      "40 0.0473489947617054 0.994\n",
      "50 0.03536967560648918 0.996\n",
      "60 0.03256358951330185 0.998\n",
      "70 0.03805842995643616 0.994\n",
      "80 0.053111739456653595 0.992\n",
      "90 0.03480522334575653 0.996\n",
      "100 0.04937131330370903 0.99\n",
      "110 0.04142577946186066 0.989\n",
      "120 0.04798203334212303 0.99\n",
      "130 0.052398547530174255 0.995\n",
      "140 0.028562404215335846 0.997\n",
      "150 0.030588461086153984 0.999\n",
      "0 0.062428150326013565 0.99\n",
      "10 0.040218286216259 0.994\n",
      "20 0.044779304414987564 0.991\n",
      "30 0.03739003464579582 0.996\n",
      "40 0.04581867903470993 0.991\n",
      "50 0.030197812244296074 0.996\n",
      "60 0.03628614544868469 0.991\n",
      "70 0.07000668346881866 0.989\n",
      "80 0.07490871846675873 0.99\n",
      "90 0.030170977115631104 0.997\n",
      "100 0.04675889387726784 0.987\n",
      "110 0.04360797628760338 0.989\n",
      "120 0.04198253154754639 0.995\n",
      "130 0.039113979786634445 0.992\n",
      "140 0.028045451268553734 0.995\n",
      "150 0.05189209431409836 0.989\n",
      "0 0.044542521238327026 0.993\n",
      "10 0.027245644479990005 0.994\n",
      "20 0.04325776547193527 0.991\n",
      "30 0.027336249127984047 0.996\n",
      "40 0.03622553497552872 0.993\n",
      "50 0.03953053057193756 0.993\n",
      "60 0.033179182559251785 0.992\n",
      "70 0.027185069397091866 0.994\n",
      "80 0.027104336768388748 0.994\n",
      "90 0.027362242341041565 0.997\n",
      "100 0.0329076424241066 0.991\n",
      "110 0.02264333888888359 0.997\n",
      "120 0.024558166041970253 0.994\n",
      "130 0.046799108386039734 0.991\n",
      "140 0.02699463628232479 0.995\n",
      "150 0.02528214454650879 0.995\n"
     ]
    }
   ],
   "source": [
    "t_loss = []\n",
    "t_acc = []\n",
    "for e in range(epochs):\n",
    "    tup = train_classifier(train_dataloader, nn_model, loss_fn, optimizer)\n",
    "    t_loss += [tup[0]]\n",
    "    t_acc += [tup[1]]"
   ]
  },
  {
   "cell_type": "code",
   "execution_count": 86,
   "id": "68797fe0",
   "metadata": {},
   "outputs": [
    {
     "name": "stdout",
     "output_type": "stream",
     "text": [
      "0 0.028817428275942802 0.992\n",
      "10 0.02900499664247036 0.995\n",
      "20 0.025638310238718987 0.989\n",
      "30 0.027024006471037865 0.993\n",
      "40 0.0437016487121582 0.997\n",
      "50 0.037614788860082626 0.993\n",
      "60 0.04015251249074936 0.993\n",
      "70 0.05056887865066528 0.992\n",
      "80 0.027590064331889153 0.995\n",
      "90 0.040094856172800064 0.994\n",
      "100 0.025526022538542747 0.995\n",
      "110 0.0229631457477808 0.997\n",
      "120 0.03292851895093918 0.994\n",
      "130 0.035363439470529556 0.996\n",
      "140 0.03937305510044098 0.995\n",
      "150 0.034271374344825745 0.993\n",
      "0 0.029430871829390526 0.996\n",
      "10 0.050967175513505936 0.989\n",
      "20 0.03155060485005379 0.994\n",
      "30 0.03914845362305641 0.986\n",
      "40 0.04010831192135811 0.994\n",
      "50 0.025677194818854332 0.998\n",
      "60 0.02968781068921089 0.994\n",
      "70 0.03116588294506073 0.997\n",
      "80 0.042965084314346313 0.996\n",
      "90 0.03768923133611679 0.994\n",
      "100 0.026736531406641006 0.996\n",
      "110 0.025138992816209793 0.995\n",
      "120 0.03446885198354721 0.993\n",
      "130 0.04239128157496452 0.993\n",
      "140 0.03378744050860405 0.994\n",
      "150 0.02890133298933506 0.994\n",
      "0 0.044192250818014145 0.992\n",
      "10 0.032037992030382156 0.994\n",
      "20 0.029871288686990738 0.994\n",
      "30 0.031598761677742004 0.994\n",
      "40 0.040633272379636765 0.995\n",
      "50 0.022751042619347572 0.996\n",
      "60 0.028984028846025467 0.993\n",
      "70 0.02278073877096176 0.995\n",
      "80 0.04292337968945503 0.989\n",
      "90 0.02684508077800274 0.995\n",
      "100 0.027706502005457878 0.996\n",
      "110 0.03937892988324165 0.994\n",
      "120 0.0442376509308815 0.994\n",
      "130 0.031818937510252 0.995\n",
      "140 0.02658478543162346 0.995\n",
      "150 0.034991443157196045 0.99\n"
     ]
    }
   ],
   "source": [
    "for param_group in optimizer.param_groups:\n",
    "    param_group['lr'] = 1e-5\n",
    "for e in range(epochs):\n",
    "    tup = train_classifier(train_dataloader, nn_model, loss_fn, optimizer)\n",
    "    t_loss += [tup[0]]\n",
    "    t_acc += [tup[1]]"
   ]
  },
  {
   "cell_type": "code",
   "execution_count": 97,
   "id": "03ca5a63",
   "metadata": {},
   "outputs": [
    {
     "data": {
      "text/plain": [
       "0.9939105977781697"
      ]
     },
     "execution_count": 97,
     "metadata": {},
     "output_type": "execute_result"
    }
   ],
   "source": [
    "test_classifier(valid_dataloader, nn_model, loss_fn)"
   ]
  },
  {
   "cell_type": "markdown",
   "id": "598521ca",
   "metadata": {},
   "source": [
    "## Autoencoder results"
   ]
  },
  {
   "cell_type": "code",
   "execution_count": 95,
   "id": "ff3fc667",
   "metadata": {},
   "outputs": [],
   "source": [
    "y_pred = nn_model(torch.tensor(X_test).to(device)).argmax(1).cpu().numpy()"
   ]
  },
  {
   "cell_type": "code",
   "execution_count": 96,
   "id": "e5af3237",
   "metadata": {},
   "outputs": [
    {
     "data": {
      "text/plain": [
       "<sklearn.metrics._plot.confusion_matrix.ConfusionMatrixDisplay at 0x1c38758cc80>"
      ]
     },
     "execution_count": 96,
     "metadata": {},
     "output_type": "execute_result"
    },
    {
     "data": {
      "image/png": "[encoded data removed]",
      "text/plain": [
       "<Figure size 640x480 with 2 Axes>"
      ]
     },
     "metadata": {},
     "output_type": "display_data"
    }
   ],
   "source": [
    "ConfusionMatrixDisplay(confusion_matrix(y_test.values, y_pred)).plot()"
   ]
  },
  {
   "cell_type": "code",
   "execution_count": 146,
   "id": "1cc662cd",
   "metadata": {},
   "outputs": [
    {
     "data": {
      "text/plain": [
       "'Autoencoder based neural network accuracy: 0.9942676056338031'"
      ]
     },
     "execution_count": 146,
     "metadata": {},
     "output_type": "execute_result"
    }
   ],
   "source": [
    "f'Autoencoder based neural network accuracy: {test_classifier(test_dataloader, nn_model, loss_fn)}'"
   ]
  },
  {
   "cell_type": "markdown",
   "id": "25fd3ecc",
   "metadata": {},
   "source": [
    "Therefore we achieve classifier for single cell RNA sequence with great accuracy of more than 99% on randomly selected test data.\n",
    "\n",
    "However, it is not the main purpose ot the autoencoder. For these kind of data it may be beneficial to use autoencoder to reduce dimensiionality for other models."
   ]
  },
  {
   "cell_type": "code",
   "execution_count": 26,
   "id": "4d538f92",
   "metadata": {},
   "outputs": [],
   "source": [
    "autoencoder_model = torch.load('Autoencoder1.pth').cpu()"
   ]
  },
  {
   "cell_type": "code",
   "execution_count": 31,
   "id": "d4cc344f",
   "metadata": {},
   "outputs": [],
   "source": [
    "X_train_auto = autoencoder_model.encoder(torch.tensor(X_train)).cpu().detach().numpy()\n",
    "X_test_auto = autoencoder_model.encoder(torch.tensor(X_test)).cpu().detach().numpy()"
   ]
  },
  {
   "cell_type": "code",
   "execution_count": 32,
   "id": "0ee7ee90",
   "metadata": {},
   "outputs": [],
   "source": [
    "params = {\"verbosity\": 0,\n",
    "\"objective\": \"multi:softmax\",\n",
    "'booster': 'gbtree',\n",
    "'lambda': 0.0010041351651543825,\n",
    " 'alpha': 0.005709987636930291,\n",
    " 'subsample': 0.9794808845466684,\n",
    " 'colsample_bytree': 0.771828220298,\n",
    " 'max_depth': 7,\n",
    " 'min_child_weight': 3,\n",
    " 'eta': 0.002806057913561531,\n",
    " 'gamma': 9.457239856021425e-07,\n",
    " 'grow_policy': 'depthwise'}"
   ]
  },
  {
   "cell_type": "code",
   "execution_count": 33,
   "id": "bc54ac11",
   "metadata": {},
   "outputs": [],
   "source": [
    "xgb_model = xgb.XGBClassifier(**params, n_jobs=-1)\n",
    "xgb_model.fit(X_train_auto, y_train)\n",
    "y_pred_auto = xgb_model.predict(X_test_auto)"
   ]
  },
  {
   "cell_type": "code",
   "execution_count": 35,
   "id": "7e8c7bac",
   "metadata": {},
   "outputs": [
    {
     "data": {
      "text/plain": [
       "'XGBoost accuracy after autoencoder: 0.9954173626279498'"
      ]
     },
     "execution_count": 35,
     "metadata": {},
     "output_type": "execute_result"
    }
   ],
   "source": [
    "f'XGBoost accuracy after autoencoder: {accuracy_score(y_test, y_pred_auto)}'"
   ]
  },
  {
   "cell_type": "markdown",
   "id": "0ea61154",
   "metadata": {},
   "source": [
    "I should note that this variant works way faster (more than 10 times) than XGBoost on full data. And we get 0.5% accuracy increase as well, which means twice less errors (99% vs 99.5%)!"
   ]
  },
  {
   "cell_type": "code",
   "execution_count": 42,
   "id": "68095e80",
   "metadata": {},
   "outputs": [
    {
     "data": {
      "text/plain": [
       "<sklearn.metrics._plot.confusion_matrix.ConfusionMatrixDisplay at 0x1cac34aba40>"
      ]
     },
     "execution_count": 42,
     "metadata": {},
     "output_type": "execute_result"
    },
    {
     "data": {
      "image/png": "[encoded data removed]",
      "text/plain": [
       "<Figure size 640x480 with 2 Axes>"
      ]
     },
     "metadata": {},
     "output_type": "display_data"
    }
   ],
   "source": [
    "ConfusionMatrixDisplay(confusion_matrix(y_test, y_pred_auto)).plot()"
   ]
  },
  {
   "cell_type": "markdown",
   "id": "955039fc",
   "metadata": {},
   "source": [
    " I could create a simple neural network with the same architecture and see what it can do."
   ]
  },
  {
   "cell_type": "markdown",
   "id": "fd54fc47",
   "metadata": {},
   "source": [
    "# Create full stacked neural network"
   ]
  },
  {
   "cell_type": "code",
   "execution_count": 44,
   "id": "6cc501fc",
   "metadata": {},
   "outputs": [],
   "source": [
    "class CustomNeuralNetwork(nn.Module):\n",
    "    def __init__(self):\n",
    "        super().__init__()\n",
    "        self.linear1 = nn.Sequential(\n",
    "            nn.Linear(254, 128),\n",
    "            nn.ReLU(),\n",
    "            nn.Linear(128, 64),\n",
    "            nn.ReLU(),\n",
    "            nn.Linear(64, 12)\n",
    "        )\n",
    "        self.linear2 = nn.Linear(12, 3)\n",
    "\n",
    "    def forward(self, x):\n",
    "        x = self.linear1(x)\n",
    "        x = self.linear2(x)\n",
    "        return x"
   ]
  },
  {
   "cell_type": "code",
   "execution_count": 114,
   "id": "63b9b7f3",
   "metadata": {},
   "outputs": [],
   "source": [
    "nn_model_2 = CustomNeuralNetwork().to(device)"
   ]
  },
  {
   "cell_type": "code",
   "execution_count": 115,
   "id": "c597326a",
   "metadata": {},
   "outputs": [
    {
     "name": "stdout",
     "output_type": "stream",
     "text": [
      "0 1.0259432792663574 0.663\n",
      "10 0.033096104860305786 0.984\n",
      "20 0.010801686905324459 0.998\n",
      "30 0.00836089812219143 0.997\n",
      "40 0.01599503867328167 0.995\n",
      "50 0.017757441848516464 0.997\n",
      "60 0.004101490136235952 0.998\n",
      "70 0.03174019604921341 0.996\n",
      "80 0.003276586765423417 0.999\n",
      "90 0.0035999442916363478 0.998\n",
      "100 0.0012471673544496298 1.0\n",
      "110 0.003533816896378994 0.999\n",
      "120 0.004198281094431877 1.0\n",
      "130 0.003824646817520261 0.998\n",
      "140 0.007974720560014248 0.995\n",
      "150 0.009475487284362316 0.996\n",
      "0 0.004560644738376141 0.999\n",
      "10 0.012229058891534805 0.998\n",
      "20 0.0027434879448264837 0.999\n",
      "30 0.002336122328415513 1.0\n",
      "40 0.004485661629587412 0.999\n",
      "50 0.01544119231402874 0.999\n",
      "60 0.012842629104852676 0.996\n",
      "70 0.0035076364874839783 0.999\n",
      "80 0.0026316214352846146 1.0\n",
      "90 0.007799520622938871 0.996\n",
      "100 0.000897261721547693 1.0\n",
      "110 0.04454740881919861 0.996\n",
      "120 0.002852607751265168 0.999\n",
      "130 0.0037277659866958857 0.999\n",
      "140 0.0038721286691725254 0.999\n",
      "150 0.0056456043384969234 0.997\n",
      "0 0.0015707345446571708 1.0\n",
      "10 0.0011916420189663768 1.0\n",
      "20 0.0005553271039389074 1.0\n",
      "30 0.005825188476592302 0.997\n",
      "40 0.0006891323137097061 1.0\n",
      "50 0.009510277770459652 0.996\n",
      "60 0.011164447292685509 0.999\n",
      "70 0.00546433636918664 0.999\n",
      "80 0.001624297583475709 1.0\n",
      "90 0.007722991053014994 0.998\n",
      "100 0.01677936501801014 0.994\n",
      "110 0.003314489033073187 0.999\n",
      "120 0.013021024875342846 0.996\n",
      "130 0.0016893659485504031 0.999\n",
      "140 0.00142745824996382 1.0\n",
      "150 0.003747980110347271 0.998\n",
      "0 0.004839746747165918 0.998\n",
      "10 0.0013717861147597432 1.0\n",
      "20 0.0002929488255176693 1.0\n",
      "30 0.000897310848813504 1.0\n",
      "40 0.001690524979494512 1.0\n",
      "50 0.0013959206407889724 1.0\n",
      "60 0.0015968495281413198 1.0\n",
      "70 0.0005925390287302434 1.0\n",
      "80 0.0015531432582065463 1.0\n",
      "90 0.004807185381650925 0.999\n",
      "100 0.0013147087302058935 1.0\n",
      "110 0.0019324285676702857 0.999\n",
      "120 0.002608644077554345 1.0\n",
      "130 0.0008133441442623734 1.0\n",
      "140 0.01245111133903265 0.999\n",
      "150 0.0007829217938706279 1.0\n",
      "0 0.0006545527721755207 1.0\n",
      "10 0.0011709914542734623 1.0\n",
      "20 0.00240445788949728 1.0\n",
      "30 0.002027193084359169 0.999\n",
      "40 0.0013821327593177557 1.0\n",
      "50 0.0002556774124968797 1.0\n",
      "60 0.0002577976556494832 1.0\n",
      "70 0.0004384553467389196 1.0\n",
      "80 0.001575277652591467 1.0\n",
      "90 0.003841753350570798 0.999\n",
      "100 0.0007156888605095446 1.0\n",
      "110 0.0005890238098800182 1.0\n",
      "120 0.00023629376664757729 1.0\n",
      "130 0.004769254941493273 0.999\n",
      "140 0.00018701088265515864 1.0\n",
      "150 0.004730771295726299 0.998\n",
      "0 0.0002726182574406266 1.0\n",
      "10 0.002225882839411497 0.999\n",
      "20 0.0005154544487595558 1.0\n",
      "30 0.0008382502710446715 1.0\n",
      "40 0.0010600020177662373 1.0\n",
      "50 0.0008535978849977255 1.0\n",
      "60 0.00872989185154438 0.998\n",
      "70 0.00019315621466375887 1.0\n",
      "80 0.0002633773547131568 1.0\n",
      "90 0.0027216121088713408 0.999\n",
      "100 0.0008425418054684997 0.999\n",
      "110 0.00280063902027905 0.999\n",
      "120 0.0012190419947728515 1.0\n",
      "130 0.00016892064013518393 1.0\n",
      "140 0.00031351041980087757 1.0\n",
      "150 0.00032871667644940317 1.0\n",
      "0 0.0006592842401005328 1.0\n",
      "10 0.007363220676779747 0.998\n",
      "20 0.00023938612139318138 1.0\n",
      "30 0.0009665291290730238 1.0\n",
      "40 0.0007106211851350963 1.0\n",
      "50 0.002249040175229311 0.999\n",
      "60 0.0008261850452981889 1.0\n",
      "70 0.0012201090576127172 1.0\n",
      "80 0.00045843140105716884 1.0\n",
      "90 0.0004006920207757503 1.0\n",
      "100 4.311985685490072e-05 1.0\n",
      "110 0.0013209623284637928 1.0\n",
      "120 0.0003119926550425589 1.0\n",
      "130 0.0005876026698388159 1.0\n",
      "140 0.0009626962710171938 0.999\n",
      "150 0.004442090168595314 0.999\n",
      "0 0.00018206299864687026 1.0\n",
      "10 0.00048734230222180486 1.0\n",
      "20 0.0006778634851798415 1.0\n",
      "30 0.0018097752472385764 0.999\n",
      "40 0.0006946544745005667 1.0\n",
      "50 0.0004377525474410504 1.0\n",
      "60 0.0007315705879591405 1.0\n",
      "70 0.0003014364920090884 1.0\n",
      "80 0.0013999377842992544 0.999\n",
      "90 0.0006446576444432139 1.0\n",
      "100 0.001897062174975872 0.998\n",
      "110 0.00020856437913607806 1.0\n",
      "120 0.0014077654341235757 1.0\n",
      "130 8.599100692663342e-05 1.0\n",
      "140 0.0004312460368964821 1.0\n",
      "150 0.00028828682843595743 1.0\n",
      "0 0.000174723521922715 1.0\n",
      "10 0.0011642788304015994 1.0\n",
      "20 0.0006267090211622417 1.0\n",
      "30 0.0004283877497073263 1.0\n",
      "40 0.0011784358648583293 1.0\n",
      "50 0.00018998396990355104 1.0\n",
      "60 0.0004381517646834254 1.0\n",
      "70 0.0008392949239350855 1.0\n",
      "80 0.0023750748950988054 0.999\n",
      "90 0.0006310812896117568 1.0\n",
      "100 0.0012178143952041864 0.999\n",
      "110 0.0002678167656995356 1.0\n",
      "120 0.009068979881703854 0.998\n",
      "130 0.000592105439864099 1.0\n",
      "140 0.0007528329733759165 1.0\n",
      "150 0.0056657916866242886 0.999\n",
      "0 0.0012704434338957071 1.0\n",
      "10 0.00025484274374321103 1.0\n",
      "20 0.0007363115437328815 1.0\n",
      "30 0.000692065863404423 1.0\n",
      "40 0.00032024329993873835 1.0\n",
      "50 0.00031646923162043095 1.0\n",
      "60 0.0005648178048431873 1.0\n",
      "70 0.0002287108509335667 1.0\n",
      "80 0.000834416423458606 1.0\n",
      "90 0.00015057326527312398 1.0\n",
      "100 0.00024324528931174427 1.0\n",
      "110 0.0002459659590385854 1.0\n",
      "120 0.007391074672341347 0.997\n",
      "130 0.0007646064623259008 1.0\n",
      "140 0.00021671553258784115 1.0\n",
      "150 0.0010717152617871761 1.0\n",
      "0 0.0018281731754541397 0.999\n",
      "10 3.8644699088763446e-05 1.0\n",
      "20 0.00427226722240448 0.999\n",
      "30 0.00027714509633369744 1.0\n",
      "40 0.00025023860507644713 1.0\n",
      "50 0.0005800178041681647 1.0\n",
      "60 0.0010149187874048948 0.999\n",
      "70 0.00021346312132664025 1.0\n",
      "80 0.0010370577219873667 1.0\n",
      "90 0.00036668629036284983 1.0\n",
      "100 0.008223387412726879 0.999\n",
      "110 0.0003095901047345251 1.0\n",
      "120 0.00046447006752714515 1.0\n",
      "130 0.001334575703367591 1.0\n",
      "140 0.0004055339959450066 1.0\n",
      "150 3.019083851540927e-05 1.0\n",
      "0 0.0008835396729409695 1.0\n",
      "10 0.0003809663176070899 1.0\n",
      "20 6.83061734889634e-05 1.0\n",
      "30 0.0003382815921213478 1.0\n",
      "40 6.252638559089974e-05 1.0\n",
      "50 0.00030323784449137747 1.0\n",
      "60 0.00040976449963636696 1.0\n",
      "70 0.00039285828825086355 1.0\n",
      "80 0.00010388874943600968 1.0\n",
      "90 0.0003009916399605572 1.0\n",
      "100 0.0007178470841608942 1.0\n",
      "110 0.0001853899157140404 1.0\n",
      "120 0.0003142279456369579 1.0\n",
      "130 0.001169753959402442 0.999\n",
      "140 0.000947754189837724 1.0\n",
      "150 0.002190269995480776 0.999\n",
      "0 0.0005217331927269697 1.0\n",
      "10 8.579009590903297e-05 1.0\n",
      "20 0.0006988426321186125 1.0\n",
      "30 0.0004846896044909954 1.0\n",
      "40 0.00047138342051766813 1.0\n",
      "50 0.0011284605134278536 1.0\n",
      "60 0.00030118273571133614 1.0\n",
      "70 0.0002340001956326887 1.0\n",
      "80 0.0020461922977119684 0.999\n",
      "90 0.0010400282917544246 1.0\n",
      "100 0.00010434772411826998 1.0\n",
      "110 0.0005944005097262561 1.0\n",
      "120 0.00011714997526723891 1.0\n",
      "130 0.0013085664249956608 0.999\n",
      "140 0.00021009180636610836 1.0\n",
      "150 0.0003842446021735668 1.0\n",
      "0 3.877710332744755e-05 1.0\n",
      "10 2.698555908864364e-05 1.0\n",
      "20 0.0001221711718244478 1.0\n",
      "30 0.0005858842632733285 1.0\n",
      "40 1.6371754099964164e-05 1.0\n",
      "50 0.00011262699990766123 1.0\n",
      "60 0.004020762164145708 0.999\n",
      "70 0.00032001768704503775 1.0\n",
      "80 6.143130303826183e-05 1.0\n",
      "90 0.0014645589981228113 1.0\n",
      "100 0.00024266524997074157 1.0\n",
      "110 0.0006691835587844253 1.0\n",
      "120 0.0001351361715933308 1.0\n",
      "130 0.0005662396433763206 1.0\n",
      "140 3.180736894137226e-05 1.0\n",
      "150 0.00015353833441622555 1.0\n",
      "0 6.243185634957626e-05 1.0\n",
      "10 0.0024447699543088675 0.999\n",
      "20 0.00029245062614791095 1.0\n",
      "30 0.0003423640155233443 1.0\n",
      "40 0.00011274460848653689 1.0\n",
      "50 0.0008170174551196396 1.0\n",
      "60 0.0004246085009071976 1.0\n",
      "70 0.001528156572021544 0.999\n",
      "80 0.002804151503369212 0.999\n",
      "90 5.397852146415971e-05 1.0\n",
      "100 0.0002145293983630836 1.0\n",
      "110 0.00024021047283895314 1.0\n",
      "120 0.00036543095484375954 1.0\n",
      "130 0.00020720751490443945 1.0\n",
      "140 0.0001734360703267157 1.0\n",
      "150 0.0003178186307195574 1.0\n",
      "0 0.000318549427902326 1.0\n",
      "10 0.0011173709062859416 0.999\n",
      "20 0.00017300245235674083 1.0\n",
      "30 7.721561996731907e-05 1.0\n",
      "40 0.00020768551621586084 1.0\n",
      "50 8.932400669436902e-05 1.0\n",
      "60 0.00018756779900286347 1.0\n",
      "70 0.0026125807780772448 0.999\n",
      "80 0.0018594588618725538 0.999\n",
      "90 2.4546427084715106e-05 1.0\n",
      "100 0.00010527575796004385 1.0\n",
      "110 0.0002046851732302457 1.0\n",
      "120 0.00018932815873995423 1.0\n",
      "130 6.85355335008353e-05 1.0\n",
      "140 0.0008820113143883646 0.999\n",
      "150 0.00029302731854841113 1.0\n",
      "0 0.00013252391363494098 1.0\n",
      "10 0.00021388453023973852 1.0\n",
      "20 0.0005343293305486441 1.0\n",
      "30 0.003375545609742403 0.999\n",
      "40 0.0004469069535844028 1.0\n",
      "50 0.0002446599828545004 1.0\n",
      "60 0.00013236718950793147 1.0\n",
      "70 1.7133730580098927e-05 1.0\n",
      "80 0.00017706360085867345 1.0\n",
      "90 0.00011890884343301877 1.0\n",
      "100 0.00024415465304628015 1.0\n",
      "110 0.004033930134028196 0.998\n",
      "120 0.0010896326275542378 1.0\n",
      "130 0.0012340337270870805 0.999\n",
      "140 0.00011848795838886872 1.0\n",
      "150 0.0001513113093096763 1.0\n",
      "0 0.0006518184090964496 1.0\n",
      "10 0.0006249402649700642 1.0\n",
      "20 5.6196466175606474e-05 1.0\n",
      "30 0.0022288125474005938 0.999\n",
      "40 0.00019407449872232974 1.0\n",
      "50 0.00030069847707636654 1.0\n",
      "60 0.000300434825476259 1.0\n",
      "70 0.0002547972253523767 1.0\n",
      "80 0.00032980332616716623 1.0\n",
      "90 0.0009116141009144485 1.0\n",
      "100 0.0005434892955236137 1.0\n",
      "110 0.0002660495520103723 1.0\n",
      "120 0.00016055024752859026 1.0\n",
      "130 0.0029137118253856897 0.998\n",
      "140 0.00012799595424439758 1.0\n",
      "150 0.0003067096695303917 1.0\n",
      "0 0.0001689008786343038 1.0\n",
      "10 0.00033479585545137525 1.0\n",
      "20 0.000261238485109061 1.0\n",
      "30 0.00020056930952705443 1.0\n",
      "40 5.6341043091379106e-05 1.0\n",
      "50 0.0009000064455904067 1.0\n",
      "60 5.596661867457442e-05 1.0\n",
      "70 1.9865165086230263e-06 1.0\n",
      "80 0.0004322981694713235 1.0\n",
      "90 2.7613543352345005e-05 1.0\n",
      "100 6.211795698618516e-05 1.0\n",
      "110 0.000277320301393047 1.0\n",
      "120 0.00014952382480259985 1.0\n",
      "130 0.00018144135538022965 1.0\n",
      "140 0.00010614861093927175 1.0\n",
      "150 0.002771607134491205 0.999\n",
      "0 0.00039247499080374837 1.0\n",
      "10 0.00018334209744352847 1.0\n",
      "20 0.0002395453630015254 1.0\n",
      "30 0.0002608369686640799 1.0\n",
      "40 0.0001669243210926652 1.0\n",
      "50 0.00020493492775131017 1.0\n",
      "60 0.00016563398821745068 1.0\n",
      "70 0.00014695485879201442 1.0\n",
      "80 0.00017268682131543756 1.0\n",
      "90 0.00042750753345899284 1.0\n",
      "100 0.0007493864977732301 1.0\n",
      "110 0.0006868410273455083 1.0\n",
      "120 0.00014623884635511786 1.0\n",
      "130 3.1166113330982625e-05 1.0\n",
      "140 6.111370021244511e-05 1.0\n",
      "150 0.0001478624762967229 1.0\n",
      "0 0.000667814863845706 1.0\n",
      "10 0.00021683366503566504 1.0\n",
      "20 0.0008313899743370712 1.0\n",
      "30 6.637879414483905e-05 1.0\n",
      "40 0.0001929508725879714 1.0\n",
      "50 0.0002674506395123899 1.0\n",
      "60 0.0018902885494753718 0.999\n",
      "70 0.0005027810111641884 1.0\n",
      "80 0.0005214212578721344 1.0\n",
      "90 0.00011119180999230593 1.0\n",
      "100 0.00024244868836831301 1.0\n",
      "110 0.0002596472331788391 1.0\n",
      "120 0.00020770373521372676 1.0\n",
      "130 0.00022417842410504818 1.0\n",
      "140 0.00011611575610004365 1.0\n",
      "150 0.00047929241554811597 1.0\n"
     ]
    }
   ],
   "source": [
    "loss_fn = nn.CrossEntropyLoss()\n",
    "optimizer = torch.optim.Adam(nn_model_2.parameters(), lr=1e-2)\n",
    "epochs = 3\n",
    "t_loss = []\n",
    "t_acc = []\n",
    "v_acc = []\n",
    "for e in range(epochs):\n",
    "    tup = train_classifier(train_dataloader, nn_model_2, loss_fn, optimizer)\n",
    "    t_loss += [tup[0]]\n",
    "    t_acc += [tup[1]]\n",
    "    v_acc += [test_classifier(valid_dataloader, nn_model_2, loss_fn)]\n",
    "\n",
    "for param_group in optimizer.param_groups:\n",
    "    param_group['lr'] = 1e-3\n",
    "for e in range(epochs):\n",
    "    tup = train_classifier(train_dataloader, nn_model_2, loss_fn, optimizer)\n",
    "    t_loss += [tup[0]]\n",
    "    t_acc += [tup[1]]\n",
    "    v_acc += [test_classifier(valid_dataloader, nn_model_2, loss_fn)]\n",
    "\n",
    "for param_group in optimizer.param_groups:\n",
    "    param_group['lr'] = 1e-4\n",
    "for e in range(epochs):\n",
    "    tup = train_classifier(train_dataloader, nn_model_2, loss_fn, optimizer)\n",
    "    t_loss += [tup[0]]\n",
    "    t_acc += [tup[1]]\n",
    "    v_acc += [test_classifier(valid_dataloader, nn_model_2, loss_fn)]\n",
    "\n",
    "for param_group in optimizer.param_groups:\n",
    "    param_group['lr'] = 5e-4\n",
    "for e in range(epochs):\n",
    "    tup = train_classifier(train_dataloader, nn_model_2, loss_fn, optimizer)\n",
    "    t_loss += [tup[0]]\n",
    "    t_acc += [tup[1]]\n",
    "    v_acc += [test_classifier(valid_dataloader, nn_model_2, loss_fn)]\n",
    "\n",
    "for param_group in optimizer.param_groups:\n",
    "    param_group['lr'] = 5e-5\n",
    "for e in range(epochs):\n",
    "    tup = train_classifier(train_dataloader, nn_model_2, loss_fn, optimizer)\n",
    "    t_loss += [tup[0]]\n",
    "    t_acc += [tup[1]]\n",
    "    v_acc += [test_classifier(valid_dataloader, nn_model_2, loss_fn)]\n",
    "\n",
    "for param_group in optimizer.param_groups:\n",
    "    param_group['lr'] = 1e-4\n",
    "for e in range(epochs):\n",
    "    tup = train_classifier(train_dataloader, nn_model_2, loss_fn, optimizer)\n",
    "    t_loss += [tup[0]]\n",
    "    t_acc += [tup[1]]\n",
    "    v_acc += [test_classifier(valid_dataloader, nn_model_2, loss_fn)]\n",
    "\n",
    "for param_group in optimizer.param_groups:\n",
    "    param_group['lr'] = 1e-5\n",
    "for e in range(epochs):\n",
    "    tup = train_classifier(train_dataloader, nn_model_2, loss_fn, optimizer)\n",
    "    t_loss += [tup[0]]\n",
    "    t_acc += [tup[1]]\n",
    "    v_acc += [test_classifier(valid_dataloader, nn_model_2, loss_fn)]"
   ]
  },
  {
   "cell_type": "code",
   "execution_count": 117,
   "id": "957b97e6",
   "metadata": {},
   "outputs": [],
   "source": [
    "torch.save(nn_model_2, 'best_classifier.pth')"
   ]
  },
  {
   "cell_type": "code",
   "execution_count": 58,
   "id": "161a118d",
   "metadata": {},
   "outputs": [
    {
     "data": {
      "text/plain": [
       "0.9993018867924528"
      ]
     },
     "execution_count": 58,
     "metadata": {},
     "output_type": "execute_result"
    }
   ],
   "source": [
    "test_classifier(valid_dataloader, nn_model_2, loss_fn)"
   ]
  },
  {
   "cell_type": "markdown",
   "id": "056a2aa1",
   "metadata": {},
   "source": [
    "## Neural network results"
   ]
  },
  {
   "cell_type": "code",
   "execution_count": 59,
   "id": "c648ccc0",
   "metadata": {},
   "outputs": [
    {
     "data": {
      "text/plain": [
       "0.9992112676056338"
      ]
     },
     "execution_count": 59,
     "metadata": {},
     "output_type": "execute_result"
    }
   ],
   "source": [
    "test_classifier(test_dataloader, nn_model_2, loss_fn)"
   ]
  },
  {
   "cell_type": "code",
   "execution_count": 60,
   "id": "9e6cd7aa",
   "metadata": {},
   "outputs": [
    {
     "data": {
      "text/plain": [
       "<sklearn.metrics._plot.confusion_matrix.ConfusionMatrixDisplay at 0x1cac31d5e50>"
      ]
     },
     "execution_count": 60,
     "metadata": {},
     "output_type": "execute_result"
    },
    {
     "data": {
      "image/png": "[encoded data removed]",
      "text/plain": [
       "<Figure size 640x480 with 2 Axes>"
      ]
     },
     "metadata": {},
     "output_type": "display_data"
    }
   ],
   "source": [
    "y_pred = nn_model_2(torch.tensor(X_test).to(device)).argmax(1).cpu().numpy()\n",
    "ConfusionMatrixDisplay(confusion_matrix(y_test.values, y_pred)).plot()"
   ]
  },
  {
   "cell_type": "code",
   "execution_count": 116,
   "id": "a297322c",
   "metadata": {},
   "outputs": [
    {
     "data": {
      "text/plain": [
       "Text(0, 0.5, 'Loss')"
      ]
     },
     "execution_count": 116,
     "metadata": {},
     "output_type": "execute_result"
    },
    {
     "data": {
      "image/png": "[encoded data removed]",
      "text/plain": [
       "<Figure size 640x480 with 1 Axes>"
      ]
     },
     "metadata": {},
     "output_type": "display_data"
    }
   ],
   "source": [
    "sns.lineplot(v_acc, label='validation accuracy')\n",
    "sns.lineplot(t_acc, label='test accuracy')\n",
    "plt.legend()\n",
    "plt.xlabel('Epoch')\n",
    "plt.ylabel('Loss')"
   ]
  },
  {
   "cell_type": "markdown",
   "id": "bd4cbe55",
   "metadata": {},
   "source": [
    "Maybe it wasn't necessary to train this neural network for all 21 epochs. However it wasn't very long, and personally I enjoy the training process:)\n",
    "\n",
    "It took way less time than search for hyperparameters for XGBoost."
   ]
  },
  {
   "cell_type": "markdown",
   "id": "cb97c858",
   "metadata": {},
   "source": [
    "# Final comparison"
   ]
  },
  {
   "cell_type": "markdown",
   "id": "611a73f4",
   "metadata": {},
   "source": [
    "XGBoost with hyperparameters optimized by optuna"
   ]
  },
  {
   "cell_type": "code",
   "execution_count": null,
   "id": "35f86b2b",
   "metadata": {},
   "outputs": [
    {
     "data": {
      "text/plain": [
       "<sklearn.metrics._plot.confusion_matrix.ConfusionMatrixDisplay at 0x1c3c7021a00>"
      ]
     },
     "metadata": {},
     "output_type": "display_data"
    },
    {
     "data": {
      "image/png": "[encoded data removed]",
      "text/plain": [
       "<Figure size 640x480 with 2 Axes>"
      ]
     },
     "metadata": {},
     "output_type": "display_data"
    }
   ],
   "source": [
    "ConfusionMatrixDisplay(confusion_matrix(y_test, y_pred_xgb)).plot()"
   ]
  },
  {
   "cell_type": "code",
   "execution_count": 150,
   "id": "d9dfa022",
   "metadata": {},
   "outputs": [
    {
     "data": {
      "text/plain": [
       "'XGBoost test accuracy score: 0.9899353291361515'"
      ]
     },
     "execution_count": 150,
     "metadata": {},
     "output_type": "execute_result"
    }
   ],
   "source": [
    "f'XGBoost test accuracy score: {accuracy_score(y_test, y_pred_xgb)}'"
   ]
  },
  {
   "cell_type": "markdown",
   "id": "694e0aee",
   "metadata": {},
   "source": [
    "Autoencoder-based neural network"
   ]
  },
  {
   "cell_type": "code",
   "execution_count": null,
   "id": "a8d828dc",
   "metadata": {},
   "outputs": [
    {
     "data": {
      "text/plain": [
       "<sklearn.metrics._plot.confusion_matrix.ConfusionMatrixDisplay at 0x1cac34aba40>"
      ]
     },
     "metadata": {},
     "output_type": "display_data"
    },
    {
     "data": {
      "image/png": "[encoded data removed]",
      "text/plain": [
       "<Figure size 640x480 with 2 Axes>"
      ]
     },
     "metadata": {},
     "output_type": "display_data"
    }
   ],
   "source": [
    "ConfusionMatrixDisplay(confusion_matrix(y_test, y_pred_auto)).plot()"
   ]
  },
  {
   "cell_type": "code",
   "execution_count": 61,
   "id": "54cdedbf",
   "metadata": {},
   "outputs": [
    {
     "data": {
      "text/plain": [
       "'Autoencoder based neural network test accuracy: 0.9954173626279498'"
      ]
     },
     "execution_count": 61,
     "metadata": {},
     "output_type": "execute_result"
    }
   ],
   "source": [
    "f'Autoencoder based neural network test accuracy: {accuracy_score(y_test, y_pred_auto)}'"
   ]
  },
  {
   "cell_type": "markdown",
   "id": "84cfe935",
   "metadata": {},
   "source": [
    "Simple neural network"
   ]
  },
  {
   "cell_type": "code",
   "execution_count": 62,
   "id": "2a61c664",
   "metadata": {},
   "outputs": [
    {
     "data": {
      "text/plain": [
       "<sklearn.metrics._plot.confusion_matrix.ConfusionMatrixDisplay at 0x1cac351b8f0>"
      ]
     },
     "execution_count": 62,
     "metadata": {},
     "output_type": "execute_result"
    },
    {
     "data": {
      "image/png": "[encoded data removed]",
      "text/plain": [
       "<Figure size 640x480 with 2 Axes>"
      ]
     },
     "metadata": {},
     "output_type": "display_data"
    }
   ],
   "source": [
    "y_pred = nn_model_2(torch.tensor(X_test).to(device)).argmax(1).cpu().numpy()\n",
    "ConfusionMatrixDisplay(confusion_matrix(y_test.values, y_pred)).plot()"
   ]
  },
  {
   "cell_type": "code",
   "execution_count": 63,
   "id": "ae0b0780",
   "metadata": {},
   "outputs": [
    {
     "data": {
      "text/plain": [
       "'Neural network test accuracy: 0.9992112676056336'"
      ]
     },
     "execution_count": 63,
     "metadata": {},
     "output_type": "execute_result"
    }
   ],
   "source": [
    "f'Neural network test accuracy: {test_classifier(test_dataloader, nn_model_2, loss_fn)}'"
   ]
  }
 ],
 "metadata": {
  "kernelspec": {
   "display_name": "Python 3 (ipykernel)",
   "language": "python",
   "name": "python3"
  },
  "language_info": {
   "codemirror_mode": {
    "name": "ipython",
    "version": 3
   },
   "file_extension": ".py",
   "mimetype": "text/x-python",
   "name": "python",
   "nbconvert_exporter": "python",
   "pygments_lexer": "ipython3",
   "version": "3.12.1"
  }
 },
 "nbformat": 4,
 "nbformat_minor": 5
}
